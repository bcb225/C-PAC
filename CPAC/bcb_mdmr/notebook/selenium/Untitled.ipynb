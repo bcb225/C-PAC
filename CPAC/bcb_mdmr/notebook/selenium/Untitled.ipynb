{
 "cells": [
  {
   "cell_type": "code",
   "execution_count": 5,
   "id": "d22ac19b-3df1-4488-85f7-3b784cf29cec",
   "metadata": {},
   "outputs": [],
   "source": [
    "import requests\n",
    "import urllib.request\n",
    "import urllib.error\n",
    "from urllib.error import URLError, HTTPError\n",
    "from bs4 import BeautifulSoup"
   ]
  },
  {
   "cell_type": "code",
   "execution_count": 8,
   "id": "357961e5-e423-4c4e-a219-2e1a767fcffb",
   "metadata": {},
   "outputs": [],
   "source": [
    "#세션만들기 \n",
    "session=requests.session()"
   ]
  },
  {
   "cell_type": "code",
   "execution_count": 9,
   "id": "1664bbc1-f80f-4084-9d93-a22cd0c2d16f",
   "metadata": {},
   "outputs": [
    {
     "name": "stdout",
     "output_type": "stream",
     "text": [
      "<Response [200]>\n"
     ]
    }
   ],
   "source": [
    "url = \"https://www.google.com/search?client=safari&sca_esv=37e4e18c62986b32&hl=en-kr&sxsrf=ADLYWIIC4LC7vh1VVHabRjMajpb-EaXDNQ:1723967191169&q=%EC%9C%A4%EC%84%9D%EC%97%B4+%EC%96%BC%EA%B5%B4+%EC%82%AC%EC%A7%84&udm=2&fbs=AEQNm0Aa4sjWe7Rqy32pFwRj0UkWd8nbOJfsBGGB5IQQO6L3J55pKwZ_tqyTnnCseTfWPJ-x4spCNlwNu8adcNnyzBkyqJKznr7vjZ5nzSBGSu1RLgyedGKwSRdxX2z-1NxK9JPITPcJk03HcpGbroeQjDBbJzDx1xzq6ez6FxK42USkJlWAR0mik_pEKppQfeInERIc0Pv5-nMgD_TBgplftUAQynwaEg&sa=X&ved=2ahUKEwi4y6Kghv6HAxVsh68BHQcnOWYQtKgLegQIDBAB&biw=393&bih=659&dpr=3\"\n",
    "response = session.get(url)\n",
    "print(response)\n",
    "\n",
    "#<Response [200]>이 떳다면 성공!!\n"
   ]
  },
  {
   "cell_type": "code",
   "execution_count": 10,
   "id": "e0f7d70c-7005-4a77-a6c3-a3498dc4bf30",
   "metadata": {},
   "outputs": [],
   "source": [
    "soup = BeautifulSoup(response.text,'html.parser')\t #soup 객체를 만든다 \n",
    "img = soup.select(\"img\")\t\t\t\t #만들어진 soup객체에서 img태그인 녀석들을 찾는다"
   ]
  },
  {
   "cell_type": "code",
   "execution_count": 12,
   "id": "60184964-4616-4412-abb1-bca5b90b9566",
   "metadata": {},
   "outputs": [
    {
     "name": "stdout",
     "output_type": "stream",
     "text": [
      "url양식이 잘못되었습니다.\n"
     ]
    }
   ],
   "source": [
    "n=0\n",
    "for i in img:\n",
    "    src = i['src']\n",
    "    try:\n",
    "        urllib.request.urlretrieve(src, str(n) + '.jpg')\n",
    "        \n",
    "    except ValueError:\t\t\t\t\t\t#url 형식이 잘못된 경우\n",
    "        print('url양식이 잘못되었습니다.')\n",
    "        \n",
    "    except HTTPError:\t\t\t\t\t\t#불량 url이라 접속이 불가능한 경우\n",
    "        print('url주소에 접근 할 수 없습니다')\n",
    "    n = n+1"
   ]
  },
  {
   "cell_type": "code",
   "execution_count": null,
   "id": "4b78ad50-947c-4000-ba9f-ad32570da078",
   "metadata": {},
   "outputs": [],
   "source": []
  }
 ],
 "metadata": {
  "kernelspec": {
   "display_name": "fmrienv",
   "language": "python",
   "name": "fmrienv"
  },
  "language_info": {
   "codemirror_mode": {
    "name": "ipython",
    "version": 3
   },
   "file_extension": ".py",
   "mimetype": "text/x-python",
   "name": "python",
   "nbconvert_exporter": "python",
   "pygments_lexer": "ipython3",
   "version": "3.9.19"
  }
 },
 "nbformat": 4,
 "nbformat_minor": 5
}
