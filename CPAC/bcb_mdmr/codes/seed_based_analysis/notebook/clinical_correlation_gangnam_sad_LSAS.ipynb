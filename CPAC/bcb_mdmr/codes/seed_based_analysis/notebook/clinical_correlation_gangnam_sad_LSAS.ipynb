{
 "cells": [
  {
   "cell_type": "code",
   "execution_count": 1,
   "metadata": {},
   "outputs": [],
   "source": [
    "import pandas as pd\n",
    "import numpy as np"
   ]
  },
  {
   "cell_type": "code",
   "execution_count": 5,
   "metadata": {},
   "outputs": [],
   "source": [
    "def draw_reg(source_cluster, variable_of_interest):\n",
    "    total_regressor = pd.read_csv(f\"../../../regressor/gangnam_total_{variable_of_interest}_regressor.csv\")\n",
    "    for group in [\"sad\", \"hc\"]:\n",
    "        cluster_table_file = f\"/mnt/NAS2-2/data/SAD_gangnam_seed_based_analysis/6mm/second_level_results/2/LSAS/{source_cluster}/gangnam_{group}_LSAS_regressor/{source_cluster}_cluster_table.csv\"\n",
    "\n",
    "        cluster_table = pd.read_csv(cluster_table_file)\n",
    "        cluster_table[\"Cluster ID\"] = cluster_table[\"Cluster ID\"].astype(str)\n",
    "        numeric_cluster = cluster_table[cluster_table[\"Cluster ID\"].str.isnumeric()][[\"Cluster ID\", \"Center of Mass AAL Label\", \"Peak Stat\"]]\n",
    "\n",
    "        for index, row in numeric_cluster.iterrows():\n",
    "            stat_value = row[\"Peak Stat\"]\n",
    "            stat_value_rounded = round(stat_value, 2)    \n",
    "            aal_label = row[\"Center of Mass AAL Label\"]\n",
    "            connectivity_file = f\"/mnt/NAS2-2/data/SAD_gangnam_seed_based_analysis/6mm/second_level_results/2/LSAS/{source_cluster}/gangnam_{group}_LSAS_regressor/cluster_masks/{source_cluster}_{aal_label}_{stat_value_rounded}.csv\"\n",
    "            connectivity = pd.read_csv(connectivity_file)\n",
    "            merged_df = pd.merge(total_regressor, connectivity, on='Participant', how='left')\n",
    "            # 중복된 _y 컬럼 제거\n",
    "            merged_df = merged_df.loc[:, ~merged_df.columns.str.endswith('_y')]\n",
    "            # _x 접미사를 제거하여 컬럼 이름 정리\n",
    "            merged_df.columns = merged_df.columns.str.replace('_x', '', regex=True)\n",
    "            merged_df['Group'] = merged_df['Participant'].apply(lambda x: 'SAD' if x.startswith('s') else 'HC')\n",
    "            plot_reg(merged_df, group, source_cluster, aal_label)"
   ]
  },
  {
   "cell_type": "code",
   "execution_count": 6,
   "metadata": {},
   "outputs": [],
   "source": [
    "def plot_reg(merged_df, group, source_cluster, aal_label):\n",
    "    import seaborn as sns\n",
    "    import matplotlib.pyplot as plt\n",
    "    from scipy import stats\n",
    "\n",
    "    # 각 그룹별로 데이터를 분리\n",
    "    group_hc = merged_df[merged_df['Group'] == 'HC']\n",
    "    group_sad = merged_df[merged_df['Group'] == 'SAD']\n",
    "\n",
    "    # HC 그룹 상관계수와 p-value 계산\n",
    "    corr_hc, p_value_hc = stats.pearsonr(group_hc['LSAS'], group_hc['Significant Correlation'])\n",
    "\n",
    "    # SAD 그룹 상관계수와 p-value 계산\n",
    "    corr_sad, p_value_sad = stats.pearsonr(group_sad['LSAS'], group_sad['Significant Correlation'])\n",
    "\n",
    "    # 전체 데이터를 위한 상관계수와 p-value 계산\n",
    "    corr_total, p_value_total = stats.pearsonr(merged_df['LSAS'], merged_df['Significant Correlation'])\n",
    "\n",
    "    # scatter plot과 회귀선 그리기 (legend 안으로 이동)\n",
    "    sns.set(style=\"whitegrid\")\n",
    "    plot = sns.lmplot(x='LSAS', y='Significant Correlation', hue=\"Group\", data=merged_df, robust=True,\n",
    "                      legend_out=False, height=6, aspect=1.2)\n",
    "\n",
    "    # 전체 데이터에 대한 회귀선 추가\n",
    "    sns.regplot(x='LSAS', y='Significant Correlation', data=merged_df, scatter=False, ax=plot.axes[0, 0],\n",
    "                color='green', label=f'Total (r = {corr_total:.2f}, p = {p_value_total:.4f})')\n",
    "\n",
    "    # x, y 라벨 및 타이틀 설정\n",
    "    plt.xlabel('LSAS')\n",
    "    plt.ylabel('Connectivity (Pearson R)')\n",
    "    plt.title(f'[{group}] {source_cluster} <-> {aal_label}', fontsize=16)\n",
    "\n",
    "    # HC 그룹의 상관계수와 p-value를 플롯에 추가\n",
    "    plt.text(0.60, 0.05, f'HC: r = {corr_hc:.2f}, p = {p_value_hc:.4f}',\n",
    "             transform=plt.gca().transAxes, fontsize=12, verticalalignment='top', color='orange')\n",
    "\n",
    "    # SAD 그룹의 상관계수와 p-value를 플롯에 추가\n",
    "    plt.text(0.60, 0.10, f'SAD: r = {corr_sad:.2f}, p = {p_value_sad:.4f}',\n",
    "             transform=plt.gca().transAxes, fontsize=12, verticalalignment='top', color='blue')\n",
    "\n",
    "    # 전체 그룹의 상관계수와 p-value를 플롯에 추가\n",
    "    plt.text(0.60, 0.15, f'Total: r = {corr_total:.2f}, p = {p_value_total:.4f}',\n",
    "             transform=plt.gca().transAxes, fontsize=12, verticalalignment='top', color='green')\n",
    "\n",
    "    # Group legend 위치를 그래프 안으로 이동\n",
    "    plt.legend(loc='upper left', fontsize=12)\n",
    "\n",
    "    # 그래프 출력 (dpi 300으로 설정)\n",
    "    plt.savefig(\"plot.png\", dpi=300)\n",
    "    plt.show()\n",
    "\n",
    "    # 그룹간 통계 테스트 (독립 샘플 t-검정)\n",
    "    t_stat, p_value = stats.ttest_ind(group_hc['Significant Correlation'], group_sad['Significant Correlation'], equal_var=False)\n",
    "\n",
    "    # t-검정 결과 출력\n",
    "    print(f\"T-statistic: {t_stat:.4f}, P-value: {p_value:.4f}\")\n",
    "\n",
    "    # 그룹간 평균 계산\n",
    "    mean_hc = group_hc['Significant Correlation'].mean()\n",
    "    mean_sad = group_sad['Significant Correlation'].mean()\n",
    "\n",
    "    # 그룹 간 비교 표시용 텍스트\n",
    "    if mean_sad > mean_hc:\n",
    "        comparison = \"SAD > HC\"\n",
    "    else:\n",
    "        comparison = \"HC > SAD\"\n",
    "\n",
    "    # Violin plot과 박스플롯 그리기\n",
    "    plt.figure(figsize=(6, 6))\n",
    "    \n",
    "    # Violin plot\n",
    "    sns.violinplot(x='Group', y='Significant Correlation', data=merged_df, inner=None, palette=\"muted\")\n",
    "\n",
    "    # 박스플롯 추가\n",
    "    sns.boxplot(x='Group', y='Significant Correlation', data=merged_df, whis=2.5, width=0.2, palette=\"pastel\")\n",
    "\n",
    "    # 타이틀 설정\n",
    "    plt.title(f'[{group}] {source_cluster} <-> {aal_label}', fontsize=16)\n",
    "\n",
    "    # 통계 결과 텍스트 표시\n",
    "    plt.text(0.5, 0.05, f'T-statistic: {t_stat:.4f}\\nP-value: {p_value:.4f}\\n{comparison}', \n",
    "             horizontalalignment='center', verticalalignment='center', transform=plt.gca().transAxes, fontsize=12, color='black')\n",
    "\n",
    "    # 그래프 출력\n",
    "    plt.show()\n"
   ]
  },
  {
   "cell_type": "code",
   "execution_count": 7,
   "metadata": {},
   "outputs": [
    {
     "ename": "FileNotFoundError",
     "evalue": "[Errno 2] No such file or directory: '/mnt/NAS2-2/data/SAD_gangnam_seed_based_analysis/6mm/second_level_results/2/LSAS/Precuneus_L/gangnam_total_LSAS_regressor/Precuneus_L_cluster_table.csv'",
     "output_type": "error",
     "traceback": [
      "\u001b[0;31m---------------------------------------------------------------------------\u001b[0m",
      "\u001b[0;31mFileNotFoundError\u001b[0m                         Traceback (most recent call last)",
      "\u001b[1;32m/home/changbae/fmri_project/C-PAC/CPAC/bcb_mdmr/codes/seed_based_analysis/notebook/clinical_correlation_gangnam_sad_LSAS.ipynb Cell 4\u001b[0m line \u001b[0;36m3\n\u001b[1;32m      <a href='vscode-notebook-cell://ssh-remote%2B7b22686f73744e616d65223a2242484c61622d4368616e67626165227d/home/changbae/fmri_project/C-PAC/CPAC/bcb_mdmr/codes/seed_based_analysis/notebook/clinical_correlation_gangnam_sad_LSAS.ipynb#X12sdnNjb2RlLXJlbW90ZQ%3D%3D?line=0'>1</a>\u001b[0m source_cluster \u001b[39m=\u001b[39m \u001b[39m\"\u001b[39m\u001b[39mPrecuneus_L\u001b[39m\u001b[39m\"\u001b[39m\n\u001b[1;32m      <a href='vscode-notebook-cell://ssh-remote%2B7b22686f73744e616d65223a2242484c61622d4368616e67626165227d/home/changbae/fmri_project/C-PAC/CPAC/bcb_mdmr/codes/seed_based_analysis/notebook/clinical_correlation_gangnam_sad_LSAS.ipynb#X12sdnNjb2RlLXJlbW90ZQ%3D%3D?line=1'>2</a>\u001b[0m variable_of_interest \u001b[39m=\u001b[39m \u001b[39m\"\u001b[39m\u001b[39mLSAS\u001b[39m\u001b[39m\"\u001b[39m\n\u001b[0;32m----> <a href='vscode-notebook-cell://ssh-remote%2B7b22686f73744e616d65223a2242484c61622d4368616e67626165227d/home/changbae/fmri_project/C-PAC/CPAC/bcb_mdmr/codes/seed_based_analysis/notebook/clinical_correlation_gangnam_sad_LSAS.ipynb#X12sdnNjb2RlLXJlbW90ZQ%3D%3D?line=2'>3</a>\u001b[0m draw_reg(source_cluster, variable_of_interest)\n",
      "\u001b[1;32m/home/changbae/fmri_project/C-PAC/CPAC/bcb_mdmr/codes/seed_based_analysis/notebook/clinical_correlation_gangnam_sad_LSAS.ipynb Cell 4\u001b[0m line \u001b[0;36m6\n\u001b[1;32m      <a href='vscode-notebook-cell://ssh-remote%2B7b22686f73744e616d65223a2242484c61622d4368616e67626165227d/home/changbae/fmri_project/C-PAC/CPAC/bcb_mdmr/codes/seed_based_analysis/notebook/clinical_correlation_gangnam_sad_LSAS.ipynb#X12sdnNjb2RlLXJlbW90ZQ%3D%3D?line=2'>3</a>\u001b[0m \u001b[39mfor\u001b[39;00m group \u001b[39min\u001b[39;00m [\u001b[39m\"\u001b[39m\u001b[39mtotal\u001b[39m\u001b[39m\"\u001b[39m, \u001b[39m\"\u001b[39m\u001b[39msad\u001b[39m\u001b[39m\"\u001b[39m, \u001b[39m\"\u001b[39m\u001b[39mhc\u001b[39m\u001b[39m\"\u001b[39m]:\n\u001b[1;32m      <a href='vscode-notebook-cell://ssh-remote%2B7b22686f73744e616d65223a2242484c61622d4368616e67626165227d/home/changbae/fmri_project/C-PAC/CPAC/bcb_mdmr/codes/seed_based_analysis/notebook/clinical_correlation_gangnam_sad_LSAS.ipynb#X12sdnNjb2RlLXJlbW90ZQ%3D%3D?line=3'>4</a>\u001b[0m     cluster_table_file \u001b[39m=\u001b[39m \u001b[39mf\u001b[39m\u001b[39m\"\u001b[39m\u001b[39m/mnt/NAS2-2/data/SAD_gangnam_seed_based_analysis/6mm/second_level_results/2/LSAS/\u001b[39m\u001b[39m{\u001b[39;00msource_cluster\u001b[39m}\u001b[39;00m\u001b[39m/gangnam_\u001b[39m\u001b[39m{\u001b[39;00mgroup\u001b[39m}\u001b[39;00m\u001b[39m_LSAS_regressor/\u001b[39m\u001b[39m{\u001b[39;00msource_cluster\u001b[39m}\u001b[39;00m\u001b[39m_cluster_table.csv\u001b[39m\u001b[39m\"\u001b[39m\n\u001b[0;32m----> <a href='vscode-notebook-cell://ssh-remote%2B7b22686f73744e616d65223a2242484c61622d4368616e67626165227d/home/changbae/fmri_project/C-PAC/CPAC/bcb_mdmr/codes/seed_based_analysis/notebook/clinical_correlation_gangnam_sad_LSAS.ipynb#X12sdnNjb2RlLXJlbW90ZQ%3D%3D?line=5'>6</a>\u001b[0m     cluster_table \u001b[39m=\u001b[39m pd\u001b[39m.\u001b[39;49mread_csv(cluster_table_file)\n\u001b[1;32m      <a href='vscode-notebook-cell://ssh-remote%2B7b22686f73744e616d65223a2242484c61622d4368616e67626165227d/home/changbae/fmri_project/C-PAC/CPAC/bcb_mdmr/codes/seed_based_analysis/notebook/clinical_correlation_gangnam_sad_LSAS.ipynb#X12sdnNjb2RlLXJlbW90ZQ%3D%3D?line=6'>7</a>\u001b[0m     cluster_table[\u001b[39m\"\u001b[39m\u001b[39mCluster ID\u001b[39m\u001b[39m\"\u001b[39m] \u001b[39m=\u001b[39m cluster_table[\u001b[39m\"\u001b[39m\u001b[39mCluster ID\u001b[39m\u001b[39m\"\u001b[39m]\u001b[39m.\u001b[39mastype(\u001b[39mstr\u001b[39m)\n\u001b[1;32m      <a href='vscode-notebook-cell://ssh-remote%2B7b22686f73744e616d65223a2242484c61622d4368616e67626165227d/home/changbae/fmri_project/C-PAC/CPAC/bcb_mdmr/codes/seed_based_analysis/notebook/clinical_correlation_gangnam_sad_LSAS.ipynb#X12sdnNjb2RlLXJlbW90ZQ%3D%3D?line=7'>8</a>\u001b[0m     numeric_cluster \u001b[39m=\u001b[39m cluster_table[cluster_table[\u001b[39m\"\u001b[39m\u001b[39mCluster ID\u001b[39m\u001b[39m\"\u001b[39m]\u001b[39m.\u001b[39mstr\u001b[39m.\u001b[39misnumeric()][[\u001b[39m\"\u001b[39m\u001b[39mCluster ID\u001b[39m\u001b[39m\"\u001b[39m, \u001b[39m\"\u001b[39m\u001b[39mCenter of Mass AAL Label\u001b[39m\u001b[39m\"\u001b[39m, \u001b[39m\"\u001b[39m\u001b[39mPeak Stat\u001b[39m\u001b[39m\"\u001b[39m]]\n",
      "File \u001b[0;32m~/anaconda3/envs/fmrienv/lib/python3.9/site-packages/pandas/io/parsers/readers.py:1026\u001b[0m, in \u001b[0;36mread_csv\u001b[0;34m(filepath_or_buffer, sep, delimiter, header, names, index_col, usecols, dtype, engine, converters, true_values, false_values, skipinitialspace, skiprows, skipfooter, nrows, na_values, keep_default_na, na_filter, verbose, skip_blank_lines, parse_dates, infer_datetime_format, keep_date_col, date_parser, date_format, dayfirst, cache_dates, iterator, chunksize, compression, thousands, decimal, lineterminator, quotechar, quoting, doublequote, escapechar, comment, encoding, encoding_errors, dialect, on_bad_lines, delim_whitespace, low_memory, memory_map, float_precision, storage_options, dtype_backend)\u001b[0m\n\u001b[1;32m   1013\u001b[0m kwds_defaults \u001b[39m=\u001b[39m _refine_defaults_read(\n\u001b[1;32m   1014\u001b[0m     dialect,\n\u001b[1;32m   1015\u001b[0m     delimiter,\n\u001b[0;32m   (...)\u001b[0m\n\u001b[1;32m   1022\u001b[0m     dtype_backend\u001b[39m=\u001b[39mdtype_backend,\n\u001b[1;32m   1023\u001b[0m )\n\u001b[1;32m   1024\u001b[0m kwds\u001b[39m.\u001b[39mupdate(kwds_defaults)\n\u001b[0;32m-> 1026\u001b[0m \u001b[39mreturn\u001b[39;00m _read(filepath_or_buffer, kwds)\n",
      "File \u001b[0;32m~/anaconda3/envs/fmrienv/lib/python3.9/site-packages/pandas/io/parsers/readers.py:620\u001b[0m, in \u001b[0;36m_read\u001b[0;34m(filepath_or_buffer, kwds)\u001b[0m\n\u001b[1;32m    617\u001b[0m _validate_names(kwds\u001b[39m.\u001b[39mget(\u001b[39m\"\u001b[39m\u001b[39mnames\u001b[39m\u001b[39m\"\u001b[39m, \u001b[39mNone\u001b[39;00m))\n\u001b[1;32m    619\u001b[0m \u001b[39m# Create the parser.\u001b[39;00m\n\u001b[0;32m--> 620\u001b[0m parser \u001b[39m=\u001b[39m TextFileReader(filepath_or_buffer, \u001b[39m*\u001b[39;49m\u001b[39m*\u001b[39;49mkwds)\n\u001b[1;32m    622\u001b[0m \u001b[39mif\u001b[39;00m chunksize \u001b[39mor\u001b[39;00m iterator:\n\u001b[1;32m    623\u001b[0m     \u001b[39mreturn\u001b[39;00m parser\n",
      "File \u001b[0;32m~/anaconda3/envs/fmrienv/lib/python3.9/site-packages/pandas/io/parsers/readers.py:1620\u001b[0m, in \u001b[0;36mTextFileReader.__init__\u001b[0;34m(self, f, engine, **kwds)\u001b[0m\n\u001b[1;32m   1617\u001b[0m     \u001b[39mself\u001b[39m\u001b[39m.\u001b[39moptions[\u001b[39m\"\u001b[39m\u001b[39mhas_index_names\u001b[39m\u001b[39m\"\u001b[39m] \u001b[39m=\u001b[39m kwds[\u001b[39m\"\u001b[39m\u001b[39mhas_index_names\u001b[39m\u001b[39m\"\u001b[39m]\n\u001b[1;32m   1619\u001b[0m \u001b[39mself\u001b[39m\u001b[39m.\u001b[39mhandles: IOHandles \u001b[39m|\u001b[39m \u001b[39mNone\u001b[39;00m \u001b[39m=\u001b[39m \u001b[39mNone\u001b[39;00m\n\u001b[0;32m-> 1620\u001b[0m \u001b[39mself\u001b[39m\u001b[39m.\u001b[39m_engine \u001b[39m=\u001b[39m \u001b[39mself\u001b[39;49m\u001b[39m.\u001b[39;49m_make_engine(f, \u001b[39mself\u001b[39;49m\u001b[39m.\u001b[39;49mengine)\n",
      "File \u001b[0;32m~/anaconda3/envs/fmrienv/lib/python3.9/site-packages/pandas/io/parsers/readers.py:1880\u001b[0m, in \u001b[0;36mTextFileReader._make_engine\u001b[0;34m(self, f, engine)\u001b[0m\n\u001b[1;32m   1878\u001b[0m     \u001b[39mif\u001b[39;00m \u001b[39m\"\u001b[39m\u001b[39mb\u001b[39m\u001b[39m\"\u001b[39m \u001b[39mnot\u001b[39;00m \u001b[39min\u001b[39;00m mode:\n\u001b[1;32m   1879\u001b[0m         mode \u001b[39m+\u001b[39m\u001b[39m=\u001b[39m \u001b[39m\"\u001b[39m\u001b[39mb\u001b[39m\u001b[39m\"\u001b[39m\n\u001b[0;32m-> 1880\u001b[0m \u001b[39mself\u001b[39m\u001b[39m.\u001b[39mhandles \u001b[39m=\u001b[39m get_handle(\n\u001b[1;32m   1881\u001b[0m     f,\n\u001b[1;32m   1882\u001b[0m     mode,\n\u001b[1;32m   1883\u001b[0m     encoding\u001b[39m=\u001b[39;49m\u001b[39mself\u001b[39;49m\u001b[39m.\u001b[39;49moptions\u001b[39m.\u001b[39;49mget(\u001b[39m\"\u001b[39;49m\u001b[39mencoding\u001b[39;49m\u001b[39m\"\u001b[39;49m, \u001b[39mNone\u001b[39;49;00m),\n\u001b[1;32m   1884\u001b[0m     compression\u001b[39m=\u001b[39;49m\u001b[39mself\u001b[39;49m\u001b[39m.\u001b[39;49moptions\u001b[39m.\u001b[39;49mget(\u001b[39m\"\u001b[39;49m\u001b[39mcompression\u001b[39;49m\u001b[39m\"\u001b[39;49m, \u001b[39mNone\u001b[39;49;00m),\n\u001b[1;32m   1885\u001b[0m     memory_map\u001b[39m=\u001b[39;49m\u001b[39mself\u001b[39;49m\u001b[39m.\u001b[39;49moptions\u001b[39m.\u001b[39;49mget(\u001b[39m\"\u001b[39;49m\u001b[39mmemory_map\u001b[39;49m\u001b[39m\"\u001b[39;49m, \u001b[39mFalse\u001b[39;49;00m),\n\u001b[1;32m   1886\u001b[0m     is_text\u001b[39m=\u001b[39;49mis_text,\n\u001b[1;32m   1887\u001b[0m     errors\u001b[39m=\u001b[39;49m\u001b[39mself\u001b[39;49m\u001b[39m.\u001b[39;49moptions\u001b[39m.\u001b[39;49mget(\u001b[39m\"\u001b[39;49m\u001b[39mencoding_errors\u001b[39;49m\u001b[39m\"\u001b[39;49m, \u001b[39m\"\u001b[39;49m\u001b[39mstrict\u001b[39;49m\u001b[39m\"\u001b[39;49m),\n\u001b[1;32m   1888\u001b[0m     storage_options\u001b[39m=\u001b[39;49m\u001b[39mself\u001b[39;49m\u001b[39m.\u001b[39;49moptions\u001b[39m.\u001b[39;49mget(\u001b[39m\"\u001b[39;49m\u001b[39mstorage_options\u001b[39;49m\u001b[39m\"\u001b[39;49m, \u001b[39mNone\u001b[39;49;00m),\n\u001b[1;32m   1889\u001b[0m )\n\u001b[1;32m   1890\u001b[0m \u001b[39massert\u001b[39;00m \u001b[39mself\u001b[39m\u001b[39m.\u001b[39mhandles \u001b[39mis\u001b[39;00m \u001b[39mnot\u001b[39;00m \u001b[39mNone\u001b[39;00m\n\u001b[1;32m   1891\u001b[0m f \u001b[39m=\u001b[39m \u001b[39mself\u001b[39m\u001b[39m.\u001b[39mhandles\u001b[39m.\u001b[39mhandle\n",
      "File \u001b[0;32m~/anaconda3/envs/fmrienv/lib/python3.9/site-packages/pandas/io/common.py:873\u001b[0m, in \u001b[0;36mget_handle\u001b[0;34m(path_or_buf, mode, encoding, compression, memory_map, is_text, errors, storage_options)\u001b[0m\n\u001b[1;32m    868\u001b[0m \u001b[39melif\u001b[39;00m \u001b[39misinstance\u001b[39m(handle, \u001b[39mstr\u001b[39m):\n\u001b[1;32m    869\u001b[0m     \u001b[39m# Check whether the filename is to be opened in binary mode.\u001b[39;00m\n\u001b[1;32m    870\u001b[0m     \u001b[39m# Binary mode does not support 'encoding' and 'newline'.\u001b[39;00m\n\u001b[1;32m    871\u001b[0m     \u001b[39mif\u001b[39;00m ioargs\u001b[39m.\u001b[39mencoding \u001b[39mand\u001b[39;00m \u001b[39m\"\u001b[39m\u001b[39mb\u001b[39m\u001b[39m\"\u001b[39m \u001b[39mnot\u001b[39;00m \u001b[39min\u001b[39;00m ioargs\u001b[39m.\u001b[39mmode:\n\u001b[1;32m    872\u001b[0m         \u001b[39m# Encoding\u001b[39;00m\n\u001b[0;32m--> 873\u001b[0m         handle \u001b[39m=\u001b[39m \u001b[39mopen\u001b[39;49m(\n\u001b[1;32m    874\u001b[0m             handle,\n\u001b[1;32m    875\u001b[0m             ioargs\u001b[39m.\u001b[39;49mmode,\n\u001b[1;32m    876\u001b[0m             encoding\u001b[39m=\u001b[39;49mioargs\u001b[39m.\u001b[39;49mencoding,\n\u001b[1;32m    877\u001b[0m             errors\u001b[39m=\u001b[39;49merrors,\n\u001b[1;32m    878\u001b[0m             newline\u001b[39m=\u001b[39;49m\u001b[39m\"\u001b[39;49m\u001b[39m\"\u001b[39;49m,\n\u001b[1;32m    879\u001b[0m         )\n\u001b[1;32m    880\u001b[0m     \u001b[39melse\u001b[39;00m:\n\u001b[1;32m    881\u001b[0m         \u001b[39m# Binary mode\u001b[39;00m\n\u001b[1;32m    882\u001b[0m         handle \u001b[39m=\u001b[39m \u001b[39mopen\u001b[39m(handle, ioargs\u001b[39m.\u001b[39mmode)\n",
      "\u001b[0;31mFileNotFoundError\u001b[0m: [Errno 2] No such file or directory: '/mnt/NAS2-2/data/SAD_gangnam_seed_based_analysis/6mm/second_level_results/2/LSAS/Precuneus_L/gangnam_total_LSAS_regressor/Precuneus_L_cluster_table.csv'"
     ]
    }
   ],
   "source": [
    "source_cluster = \"Precuneus_L\"\n",
    "variable_of_interest = \"LSAS\"\n",
    "draw_reg(source_cluster, variable_of_interest)"
   ]
  },
  {
   "cell_type": "code",
   "execution_count": null,
   "metadata": {},
   "outputs": [],
   "source": []
  },
  {
   "cell_type": "code",
   "execution_count": null,
   "metadata": {},
   "outputs": [],
   "source": []
  },
  {
   "cell_type": "code",
   "execution_count": null,
   "metadata": {},
   "outputs": [],
   "source": []
  }
 ],
 "metadata": {
  "kernelspec": {
   "display_name": "fmrienv",
   "language": "python",
   "name": "python3"
  },
  "language_info": {
   "codemirror_mode": {
    "name": "ipython",
    "version": 3
   },
   "file_extension": ".py",
   "mimetype": "text/x-python",
   "name": "python",
   "nbconvert_exporter": "python",
   "pygments_lexer": "ipython3",
   "version": "3.9.20"
  }
 },
 "nbformat": 4,
 "nbformat_minor": 2
}
