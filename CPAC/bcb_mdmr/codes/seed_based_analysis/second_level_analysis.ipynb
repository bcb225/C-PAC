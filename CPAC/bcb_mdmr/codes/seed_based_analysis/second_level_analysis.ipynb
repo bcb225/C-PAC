{
 "cells": [
  {
   "cell_type": "code",
   "execution_count": 14,
   "metadata": {},
   "outputs": [
    {
     "name": "stderr",
     "output_type": "stream",
     "text": [
      "/home/changbae/anaconda3/envs/fmrienv/lib/python3.9/site-packages/nilearn/glm/first_level/design_matrix.py:503: FutureWarning: Setting an item of incompatible dtype is deprecated and will raise an error in a future version of pandas. Value '0.1134644582781456' has dtype incompatible with int64, please explicitly cast to a compatible dtype first.\n",
      "  design_matrix.loc[ridx, conf_name] = confounds_value\n",
      "/home/changbae/anaconda3/envs/fmrienv/lib/python3.9/site-packages/nilearn/glm/first_level/design_matrix.py:503: FutureWarning: Setting an item of incompatible dtype is deprecated and will raise an error in a future version of pandas. Value '16.5' has dtype incompatible with int64, please explicitly cast to a compatible dtype first.\n",
      "  design_matrix.loc[ridx, conf_name] = confounds_value\n"
     ]
    }
   ],
   "source": [
    "import pandas as pd\n",
    "import argparse\n",
    "from nilearn.glm.second_level import SecondLevelModel\n",
    "from nilearn import plotting\n",
    "import os\n",
    "from nilearn.glm.second_level import make_second_level_design_matrix\n",
    "\n",
    "group = \"gangnam_total\"\n",
    "variable = \"HADS_depression\"\n",
    "smoothness = 6\n",
    "mdmr_dir = \"/home/changbae/fmri_project/C-PAC/CPAC/bcb_mdmr/\"\n",
    "nas_dir = \"/mnt/NAS2-2/data/\"\n",
    "MDMR_output_dir = f\"{nas_dir}/SAD_gangnam_MDMR/\"\n",
    "fmri_prep_dir = f\"{nas_dir}/SAD_gangnam_resting_2/fMRIPrep_total\"\n",
    "seed_anal_dir = f\"{nas_dir}/SAD_gangnam_seed_based_analysis/\"\n",
    "\n",
    "regressor_df = pd.read_csv(\n",
    "    f\"{mdmr_dir}/input/{group}_{variable}_regressor.csv\"\n",
    ")\n",
    "\n",
    "subjects_label = regressor_df[\"Participant\"].values\n",
    "# 필요한 열만 선택하여 디자인 매트릭스 생성\n",
    "\n",
    "extra_info_subjects = pd.DataFrame({\n",
    "    \"subject_label\": subjects_label,\n",
    "    \"sex\": regressor_df[\"SEX\"],\n",
    "    \"age\": regressor_df[\"AGE\"],\n",
    "    \"yr_edu\": regressor_df[\"YR_EDU\"],\n",
    "    \"mean_framewise_displacement\": regressor_df[\"Mean_Framewise_Displacement\"]\n",
    "})\n",
    "design_matrix = make_second_level_design_matrix(\n",
    "    subjects_label, extra_info_subjects\n",
    ")\n"
   ]
  },
  {
   "cell_type": "code",
   "execution_count": 15,
   "metadata": {},
   "outputs": [],
   "source": [
    "second_level_model = SecondLevelModel(n_jobs=-1)\n",
    "z_maps = [f\"{seed_anal_dir}/{smoothness}mm/corr_z-map/seed_{group}_{variable}/sub-{subject_id}_fisher_z_img.nii.gz\" for subject_id in regressor_df['Participant']]\n",
    "\n",
    "second_level_model = second_level_model.fit(\n",
    "    z_maps,\n",
    "    design_matrix=design_matrix,\n",
    ")"
   ]
  },
  {
   "cell_type": "code",
   "execution_count": 16,
   "metadata": {},
   "outputs": [
    {
     "name": "stdout",
     "output_type": "stream",
     "text": [
      "The FDR=.05 threshold is 2.15\n",
      "The p<.05 Bonferroni-corrected threshold is 4.71\n"
     ]
    }
   ],
   "source": [
    "z_map = second_level_model.compute_contrast(\"intercept\", output_type='z_score')\n",
    "\n",
    "result_dir = f\"{seed_anal_dir}/{smoothness}mm/p_map/{group}/{variable}/result/\"\n",
    "temp_dir = f\"{seed_anal_dir}/{smoothness}mm/p_map/{group}/{variable}/temp/\"\n",
    "os.makedirs(result_dir, exist_ok=True)\n",
    "from nilearn.glm import threshold_stats_img\n",
    "z_map_filename = f\"{result_dir}/unthresholded_z_map.nii.gz\"\n",
    "z_map.to_filename(z_map_filename)\n",
    "\n",
    "thresholded_map2, threshold2 = threshold_stats_img(\n",
    "    z_map, alpha=0.05, height_control=\"fdr\"\n",
    ")\n",
    "print(f\"The FDR=.05 threshold is {threshold2:.3g}\")\n",
    "thresholded_map2_filename = f\"{result_dir}/FDR_correted_z_map.nii.gz\"\n",
    "thresholded_map2.to_filename(thresholded_map2_filename)\n",
    "\n",
    "thresholded_map3, threshold3 = threshold_stats_img(\n",
    "    z_map, alpha=0.05, height_control=\"bonferroni\"\n",
    ")\n",
    "print(f\"The p<.05 Bonferroni-corrected threshold is {threshold3:.3g}\")\n",
    "thresholded_map3_filename = f\"{result_dir}/bonferroni_correted_z_map.nii.gz\"\n",
    "thresholded_map3.to_filename(thresholded_map3_filename)"
   ]
  },
  {
   "cell_type": "code",
   "execution_count": 17,
   "metadata": {},
   "outputs": [
    {
     "ename": "NameError",
     "evalue": "name 'args' is not defined",
     "output_type": "error",
     "traceback": [
      "\u001b[0;31m---------------------------------------------------------------------------\u001b[0m",
      "\u001b[0;31mNameError\u001b[0m                                 Traceback (most recent call last)",
      "\u001b[1;32m/home/changbae/fmri_project/C-PAC/CPAC/bcb_mdmr/codes/seed_based_analysis/second_level_analysis.ipynb Cell 4\u001b[0m line \u001b[0;36m1\n\u001b[1;32m      <a href='vscode-notebook-cell://ssh-remote%2B7b22686f73744e616d65223a2242484c61622d4368616e67626165227d/home/changbae/fmri_project/C-PAC/CPAC/bcb_mdmr/codes/seed_based_analysis/second_level_analysis.ipynb#W1sdnNjb2RlLXJlbW90ZQ%3D%3D?line=7'>8</a>\u001b[0m second_level_model \u001b[39m=\u001b[39m SecondLevelModel(n_jobs\u001b[39m=\u001b[39m\u001b[39m-\u001b[39m\u001b[39m1\u001b[39m)\n\u001b[1;32m      <a href='vscode-notebook-cell://ssh-remote%2B7b22686f73744e616d65223a2242484c61622d4368616e67626165227d/home/changbae/fmri_project/C-PAC/CPAC/bcb_mdmr/codes/seed_based_analysis/second_level_analysis.ipynb#W1sdnNjb2RlLXJlbW90ZQ%3D%3D?line=8'>9</a>\u001b[0m second_level_model\u001b[39m.\u001b[39mfit(z_maps, design_matrix\u001b[39m=\u001b[39mdesign_matrix)\n\u001b[0;32m---> <a href='vscode-notebook-cell://ssh-remote%2B7b22686f73744e616d65223a2242484c61622d4368616e67626165227d/home/changbae/fmri_project/C-PAC/CPAC/bcb_mdmr/codes/seed_based_analysis/second_level_analysis.ipynb#W1sdnNjb2RlLXJlbW90ZQ%3D%3D?line=10'>11</a>\u001b[0m z_map \u001b[39m=\u001b[39m second_level_model\u001b[39m.\u001b[39mcompute_contrast(args\u001b[39m.\u001b[39mvariable, output_type\u001b[39m=\u001b[39m\u001b[39m'\u001b[39m\u001b[39mz_score\u001b[39m\u001b[39m'\u001b[39m)\n\u001b[1;32m     <a href='vscode-notebook-cell://ssh-remote%2B7b22686f73744e616d65223a2242484c61622d4368616e67626165227d/home/changbae/fmri_project/C-PAC/CPAC/bcb_mdmr/codes/seed_based_analysis/second_level_analysis.ipynb#W1sdnNjb2RlLXJlbW90ZQ%3D%3D?line=12'>13</a>\u001b[0m result_dir \u001b[39m=\u001b[39m \u001b[39mf\u001b[39m\u001b[39m\"\u001b[39m\u001b[39m{\u001b[39;00mseed_anal_dir\u001b[39m}\u001b[39;00m\u001b[39m/\u001b[39m\u001b[39m{\u001b[39;00margs\u001b[39m.\u001b[39msmoothness\u001b[39m}\u001b[39;00m\u001b[39mmm/p_map/\u001b[39m\u001b[39m{\u001b[39;00margs\u001b[39m.\u001b[39mgroup\u001b[39m}\u001b[39;00m\u001b[39m/\u001b[39m\u001b[39m{\u001b[39;00margs\u001b[39m.\u001b[39mvariable\u001b[39m}\u001b[39;00m\u001b[39m/result/\u001b[39m\u001b[39m\"\u001b[39m\n\u001b[1;32m     <a href='vscode-notebook-cell://ssh-remote%2B7b22686f73744e616d65223a2242484c61622d4368616e67626165227d/home/changbae/fmri_project/C-PAC/CPAC/bcb_mdmr/codes/seed_based_analysis/second_level_analysis.ipynb#W1sdnNjb2RlLXJlbW90ZQ%3D%3D?line=13'>14</a>\u001b[0m temp_dir \u001b[39m=\u001b[39m \u001b[39mf\u001b[39m\u001b[39m\"\u001b[39m\u001b[39m{\u001b[39;00mseed_anal_dir\u001b[39m}\u001b[39;00m\u001b[39m/\u001b[39m\u001b[39m{\u001b[39;00margs\u001b[39m.\u001b[39msmoothness\u001b[39m}\u001b[39;00m\u001b[39mmm/p_map/\u001b[39m\u001b[39m{\u001b[39;00margs\u001b[39m.\u001b[39mgroup\u001b[39m}\u001b[39;00m\u001b[39m/\u001b[39m\u001b[39m{\u001b[39;00margs\u001b[39m.\u001b[39mvariable\u001b[39m}\u001b[39;00m\u001b[39m/temp/\u001b[39m\u001b[39m\"\u001b[39m\n",
      "\u001b[0;31mNameError\u001b[0m: name 'args' is not defined"
     ]
    }
   ],
   "source": [
    "design_matrix = regressor_df[['SEX', 'AGE', 'YR_EDU', variable, 'Mean_Framewise_Displacement']]\n",
    "\n",
    "# 인터셉트 열 추가\n",
    "design_matrix.insert(0, 'intercept', 1)\n",
    "\n",
    "z_maps = [f\"{seed_anal_dir}/{smoothness}mm/corr_z-map/seed_{group}_{variable}/sub-{subject_id}_fisher_z_img.nii.gz\" for subject_id in regressor_df['Participant']]\n",
    "\n",
    "second_level_model = SecondLevelModel(n_jobs=-1)\n",
    "second_level_model.fit(z_maps, design_matrix=design_matrix)\n",
    "\n",
    "z_map = second_level_model.compute_contrast(args.variable, output_type='z_score')\n",
    "\n",
    "result_dir = f\"{seed_anal_dir}/{args.smoothness}mm/p_map/{args.group}/{args.variable}/result/\"\n",
    "temp_dir = f\"{seed_anal_dir}/{args.smoothness}mm/p_map/{args.group}/{args.variable}/temp/\"\n",
    "os.makedirs(result_dir, exist_ok=True)\n",
    "\n",
    "p_map_filename = f\"{result_dir}/pvalue_map.nii.gz\"\n",
    "p_map.to_filename(p_map_filename)"
   ]
  },
  {
   "cell_type": "code",
   "execution_count": null,
   "metadata": {},
   "outputs": [],
   "source": []
  }
 ],
 "metadata": {
  "kernelspec": {
   "display_name": "fmrienv",
   "language": "python",
   "name": "fmrienv"
  },
  "language_info": {
   "codemirror_mode": {
    "name": "ipython",
    "version": 3
   },
   "file_extension": ".py",
   "mimetype": "text/x-python",
   "name": "python",
   "nbconvert_exporter": "python",
   "pygments_lexer": "ipython3",
   "version": "3.9.19"
  }
 },
 "nbformat": 4,
 "nbformat_minor": 2
}
