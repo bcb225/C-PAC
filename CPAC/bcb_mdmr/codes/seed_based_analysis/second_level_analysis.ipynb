{
 "cells": [
  {
   "cell_type": "code",
   "execution_count": 68,
   "metadata": {},
   "outputs": [
    {
     "name": "stderr",
     "output_type": "stream",
     "text": [
      "/home/brain/.conda/envs/gptpred/lib/python3.11/site-packages/nilearn/glm/first_level/design_matrix.py:508: UserWarning: Attention: Design matrix is singular. Aberrant estimates are expected.\n",
      "  warn(\n"
     ]
    }
   ],
   "source": [
    "import pandas as pd\n",
    "import argparse\n",
    "from nilearn.glm.second_level import SecondLevelModel\n",
    "from nilearn import plotting\n",
    "import os\n",
    "from nilearn.glm.second_level import make_second_level_design_matrix\n",
    "from nilearn.maskers import NiftiMasker\n",
    "\n",
    "group = \"gangnam_sad\"\n",
    "variable = \"LSAS\"\n",
    "smoothness = 6\n",
    "mdmr_dir = os.path.expanduser(\"~/fmri_project/C-PAC/CPAC/bcb_mdmr/\")\n",
    "nas_dir = os.path.expanduser(\"~/fmri_project/C-PAC/CPAC/bcb_mdmr/output/\")\n",
    "MDMR_output_dir = f\"{nas_dir}/SAD_gangnam_MDMR/\"\n",
    "fmri_prep_dir = f\"{nas_dir}/SAD_gangnam_resting_2/fMRIPrep_total\"\n",
    "seed_anal_dir = f\"{nas_dir}/SAD_gangnam_seed_based_analysis/\"\n",
    "\n",
    "regressor_df = pd.read_csv(\n",
    "    f\"{mdmr_dir}/input/{group}_{variable}_regressor.csv\"\n",
    ")\n",
    "\n",
    "subjects_label = regressor_df[\"Participant\"].values\n",
    "# 필요한 열만 선택하여 디자인 매트릭스 생성\n",
    "\n",
    "extra_info_subjects = pd.DataFrame({\n",
    "    \"subject_label\": subjects_label,\n",
    "    \"LSAS\": regressor_df[\"LSAS\"],\n",
    "    \"sex\": regressor_df[\"SEX\"],\n",
    "    \"age\": regressor_df[\"AGE\"],\n",
    "    \"yr_edu\": regressor_df[\"YR_EDU\"],\n",
    "    \"mean_framewise_displacement\": regressor_df[\"Mean_Framewise_Displacement\"]\n",
    "})\n",
    "design_matrix = make_second_level_design_matrix(\n",
    "    subjects_label, extra_info_subjects\n",
    ")\n"
   ]
  },
  {
   "cell_type": "code",
   "execution_count": 69,
   "metadata": {},
   "outputs": [],
   "source": [
    "z_maps = [f\"{seed_anal_dir}/{smoothness}mm/corr_z-map/seed_{group}_{variable}/sub-{subject_id}_fisher_z_img.nii.gz\" for subject_id in regressor_df['Participant']]\n",
    "\n",
    "second_level_model = second_level_model.fit(\n",
    "    z_maps,\n",
    "    design_matrix=design_matrix,\n",
    ")"
   ]
  },
  {
   "cell_type": "code",
   "execution_count": 70,
   "metadata": {},
   "outputs": [
    {
     "name": "stdout",
     "output_type": "stream",
     "text": [
      "The FDR=.05 threshold is 2.44\n",
      "The p<.05 Bonferroni-corrected threshold is 4.71\n"
     ]
    }
   ],
   "source": [
    "z_map = second_level_model.compute_contrast(\"LSAS\", output_type='z_score')\n",
    "\n",
    "result_dir = f\"{seed_anal_dir}/{smoothness}mm/p_map/{group}/{variable}/result/\"\n",
    "temp_dir = f\"{seed_anal_dir}/{smoothness}mm/p_map/{group}/{variable}/temp/\"\n",
    "os.makedirs(result_dir, exist_ok=True)\n",
    "from nilearn.glm import threshold_stats_img\n",
    "z_map_filename = f\"./unthresholded_z_map.nii.gz\"\n",
    "z_map.to_filename(z_map_filename)\n",
    "\n",
    "thresholded_map2, threshold2 = threshold_stats_img(\n",
    "    z_map, alpha=0.05, height_control=\"fdr\"\n",
    ")\n",
    "print(f\"The FDR=.05 threshold is {threshold2:.3g}\")\n",
    "thresholded_map2_filename = f\"./FDR_correted_z_map.nii.gz\"\n",
    "thresholded_map2.to_filename(thresholded_map2_filename)\n",
    "\n",
    "thresholded_map3, threshold3 = threshold_stats_img(\n",
    "    z_map, alpha=0.05, height_control=\"bonferroni\"\n",
    ")\n",
    "print(f\"The p<.05 Bonferroni-corrected threshold is {threshold3:.3g}\")\n",
    "thresholded_map3_filename = f\"./bonferroni_correted_z_map.nii.gz\"\n",
    "thresholded_map3.to_filename(thresholded_map3_filename)"
   ]
  },
  {
   "cell_type": "code",
   "execution_count": 71,
   "metadata": {},
   "outputs": [],
   "source": [
    "p_map = second_level_model.compute_contrast(\n",
    "    second_level_contrast = \"LSAS\", \n",
    "    output_type='p_value')\n",
    "\n",
    "p_map_filename = f\"./p_value_map.nii.gz\"\n",
    "p_map.to_filename(p_map_filename)"
   ]
  },
  {
   "cell_type": "code",
   "execution_count": 59,
   "metadata": {},
   "outputs": [
    {
     "name": "stderr",
     "output_type": "stream",
     "text": [
      "Fitting second level model...\n",
      "Computation of second level model done in 0.17004847526550293 seconds\n",
      "/home/brain/.conda/envs/gptpred/lib/python3.11/site-packages/nilearn/mass_univariate/permuted_least_squares.py:986: UserWarning: Data array used to create a new image contains 64-bit ints. This is likely due to creating the array with numpy and passing `int` as the `dtype`. Many tools such as FSL and SPM cannot deal with int64 in Nifti images, so for compatibility the data has been converted to int32.\n",
      "  image.new_img_like(masker.mask_img_, metric_map),\n",
      "/home/brain/.conda/envs/gptpred/lib/python3.11/site-packages/nilearn/masking.py:980: UserWarning: Data array used to create a new image contains 64-bit ints. This is likely due to creating the array with numpy and passing `int` as the `dtype`. Many tools such as FSL and SPM cannot deal with int64 in Nifti images, so for compatibility the data has been converted to int32.\n",
      "  return new_img_like(mask_img, unmasked, affine)\n"
     ]
    }
   ],
   "source": [
    "from nilearn.glm.second_level import non_parametric_inference\n",
    "\n",
    "\n",
    "out_dict = non_parametric_inference(\n",
    "    z_maps,\n",
    "    design_matrix=design_matrix,\n",
    "    second_level_contrast=\"LSAS\",\n",
    "    n_perm=15000,  # 500 for the sake of time. Ideally, this should be 10,000.\n",
    "    two_sided_test=True,\n",
    "    n_jobs=-1,\n",
    "    threshold=0.005,\n",
    "    verbose=1,\n",
    ")"
   ]
  },
  {
   "cell_type": "code",
   "execution_count": 61,
   "metadata": {},
   "outputs": [
    {
     "name": "stdout",
     "output_type": "stream",
     "text": [
      "총 복셀 수: 84084\n",
      "복셀 단위 임계값 (-log10(p) > 2.3010)을 통과한 복셀 수: 0\n",
      "클러스터 단위 임계값 (-log10(p) > 1.3010)을 통과한 복셀 수: 2357\n",
      "두 임계값을 모두 통과한 복셀 수: 0\n",
      "-log10(0.005) = 2.3010\n",
      "-log10(0.05) = 1.3010\n"
     ]
    }
   ],
   "source": [
    "import numpy as np\n",
    "import nibabel as nib\n",
    "\n",
    "def threshold_results(out_dict, voxel_threshold=0.005, cluster_threshold=0.05):\n",
    "    # Get images directly from out_dict\n",
    "    logp_max_t_img = out_dict['logp_max_t']\n",
    "    logp_max_size_img = out_dict['logp_max_size']\n",
    "\n",
    "    # Get data and affine\n",
    "    logp_max_t_data = logp_max_t_img.get_fdata()\n",
    "    logp_max_size_data = logp_max_size_img.get_fdata()\n",
    "    affine = logp_max_t_img.affine\n",
    "\n",
    "    # Convert -log10(p) to p-values\n",
    "    voxel_p_values = 10 ** (-logp_max_t_data)\n",
    "    cluster_p_values = 10 ** (-logp_max_size_data)\n",
    "\n",
    "    # Calculate -log10(p) thresholds\n",
    "    voxel_logp_threshold = -np.log10(voxel_threshold)\n",
    "    cluster_logp_threshold = -np.log10(cluster_threshold)\n",
    "\n",
    "    # Create masks\n",
    "    voxel_mask = logp_max_t_data > voxel_logp_threshold\n",
    "    cluster_mask = logp_max_size_data > cluster_logp_threshold\n",
    "\n",
    "    # Combine masks\n",
    "    combined_mask = voxel_mask & cluster_mask\n",
    "\n",
    "    # Count voxels in each mask\n",
    "    total_voxels = np.prod(voxel_mask.shape)\n",
    "    voxel_mask_count = np.sum(voxel_mask)\n",
    "    cluster_mask_count = np.sum(cluster_mask)\n",
    "    combined_mask_count = np.sum(combined_mask)\n",
    "\n",
    "    # Print voxel counts and thresholds\n",
    "    print(f\"총 복셀 수: {total_voxels}\")\n",
    "    print(f\"복셀 단위 임계값 (-log10(p) > {voxel_logp_threshold:.4f})을 통과한 복셀 수: {voxel_mask_count}\")\n",
    "    print(f\"클러스터 단위 임계값 (-log10(p) > {cluster_logp_threshold:.4f})을 통과한 복셀 수: {cluster_mask_count}\")\n",
    "    print(f\"두 임계값을 모두 통과한 복셀 수: {combined_mask_count}\")\n",
    "\n",
    "    # Apply combined mask to voxel-wise -log10(p) values\n",
    "    final_logp_values = np.where(combined_mask, logp_max_t_data, 0)\n",
    "\n",
    "    # Create and save the final images\n",
    "    final_t_img = nib.Nifti1Image(logp_max_t_data, affine)\n",
    "    final_size_img = nib.Nifti1Image(logp_max_size_data, affine)\n",
    "    final_combined_img = nib.Nifti1Image(final_logp_values, affine)\n",
    "\n",
    "    nib.save(final_t_img, 'logp_max_t.nii.gz')\n",
    "    nib.save(final_size_img, 'logp_max_size.nii.gz')\n",
    "    nib.save(final_combined_img, 'thresholded_logp_values.nii.gz')\n",
    "\n",
    "    return final_combined_img\n",
    "\n",
    "# Usage\n",
    "thresholded_img = threshold_results(out_dict)\n",
    "\n",
    "# Print -log10(p) values for p=0.005 and p=0.05\n",
    "print(f\"-log10(0.005) = {-np.log10(0.005):.4f}\")\n",
    "print(f\"-log10(0.05) = {-np.log10(0.05):.4f}\")"
   ]
  },
  {
   "cell_type": "code",
   "execution_count": null,
   "metadata": {},
   "outputs": [],
   "source": [
    "p_map_filename = \"./logp_max_t.nii.gz\"\n",
    "out_dict[\"logp_max_t\"].to_filename(p_map_filename)\n",
    "\n",
    "p_map_filename = \"./logp_max_size.nii.gz\"\n",
    "out_dict[\"logp_max_size\"].to_filename(p_map_filename)"
   ]
  },
  {
   "cell_type": "code",
   "execution_count": 52,
   "metadata": {},
   "outputs": [],
   "source": [
    "second_level_model = SecondLevelModel(n_jobs=-1)\n",
    "z_maps = [f\"{seed_anal_dir}/{smoothness}mm/corr_z-map/seed_{group}_{variable}/sub-{subject_id}_fisher_z_img.nii.gz\" for subject_id in regressor_df['Participant']]\n",
    "\n",
    "second_level_model = second_level_model.fit(\n",
    "    z_maps,\n",
    "    design_matrix=design_matrix,\n",
    ")\n",
    "\n",
    "output = second_level_model.compute_contrast(\n",
    "    second_level_contrast=\"LSAS\",\n",
    "    output_type=\"p_value\"\n",
    ")\n",
    "\n",
    "p_map_filename = \"./p_val.nii.gz\"\n",
    "output.to_filename(p_map_filename)"
   ]
  },
  {
   "cell_type": "code",
   "execution_count": 65,
   "metadata": {},
   "outputs": [
    {
     "name": "stdout",
     "output_type": "stream",
     "text": [
      "The FDR=.005 threshold is 2.44\n",
      "The p<.05 Bonferroni-corrected threshold is 4.71\n"
     ]
    }
   ],
   "source": [
    "z_map = second_level_model.compute_contrast(\"LSAS\", output_type='z_score')\n",
    "from nilearn.glm import threshold_stats_img\n",
    "\n",
    "thresholded_map2, threshold2 = threshold_stats_img(\n",
    "    z_map, alpha=0.05, height_control=\"fdr\", cluster_threshold = 0.05\n",
    ")\n",
    "print(f\"The FDR=.005 threshold is {threshold2:.3g}\")\n",
    "thresholded_map2_filename = \"./FDR_correted_z_map.nii.gz\"\n",
    "thresholded_map2.to_filename(thresholded_map2_filename)\n",
    "\n",
    "thresholded_map3, threshold3 = threshold_stats_img(\n",
    "    z_map, alpha=0.05, height_control=\"bonferroni\"\n",
    ")\n",
    "print(f\"The p<.05 Bonferroni-corrected threshold is {threshold3:.3g}\")\n",
    "thresholded_map3_filename = f\"bonferroni_correted_z_map.nii.gz\"\n",
    "thresholded_map3.to_filename(thresholded_map3_filename)"
   ]
  },
  {
   "cell_type": "code",
   "execution_count": 28,
   "metadata": {},
   "outputs": [
    {
     "name": "stderr",
     "output_type": "stream",
     "text": [
      "Fitting second level model...\n",
      "Computation of second level model done in 0.15488076210021973 seconds\n",
      "/home/brain/.conda/envs/gptpred/lib/python3.11/site-packages/nilearn/mass_univariate/permuted_least_squares.py:986: UserWarning: Data array used to create a new image contains 64-bit ints. This is likely due to creating the array with numpy and passing `int` as the `dtype`. Many tools such as FSL and SPM cannot deal with int64 in Nifti images, so for compatibility the data has been converted to int32.\n",
      "  image.new_img_like(masker.mask_img_, metric_map),\n",
      "/home/brain/.conda/envs/gptpred/lib/python3.11/site-packages/nilearn/masking.py:980: UserWarning: Data array used to create a new image contains 64-bit ints. This is likely due to creating the array with numpy and passing `int` as the `dtype`. Many tools such as FSL and SPM cannot deal with int64 in Nifti images, so for compatibility the data has been converted to int32.\n",
      "  return new_img_like(mask_img, unmasked, affine)\n"
     ]
    }
   ],
   "source": []
  },
  {
   "cell_type": "markdown",
   "metadata": {},
   "source": []
  },
  {
   "cell_type": "code",
   "execution_count": 29,
   "metadata": {},
   "outputs": [],
   "source": [
    "p_map_filename = \"./logp_max_t.nii.gz\"\n",
    "out_dict[\"logp_max_t\"].to_filename(p_map_filename)"
   ]
  },
  {
   "cell_type": "code",
   "execution_count": 27,
   "metadata": {},
   "outputs": [],
   "source": [
    "p_map_filename = \"./logp_max_size.nii.gz\"\n",
    "out_dict[\"logp_max_size\"].to_filename(p_map_filename)"
   ]
  },
  {
   "cell_type": "code",
   "execution_count": 16,
   "metadata": {},
   "outputs": [
    {
     "name": "stdout",
     "output_type": "stream",
     "text": [
      "The FDR=.05 threshold is 2.15\n",
      "The p<.05 Bonferroni-corrected threshold is 4.71\n"
     ]
    }
   ],
   "source": [
    "z_map = second_level_model.compute_contrast(\"LSAS\", output_type='z_score')\n",
    "\n",
    "result_dir = f\"{seed_anal_dir}/{smoothness}mm/p_map/{group}/{variable}/result/\"\n",
    "temp_dir = f\"{seed_anal_dir}/{smoothness}mm/p_map/{group}/{variable}/temp/\"\n",
    "os.makedirs(result_dir, exist_ok=True)\n",
    "from nilearn.glm import threshold_stats_img\n",
    "z_map_filename = f\"{result_dir}/unthresholded_z_map.nii.gz\"\n",
    "z_map.to_filename(z_map_filename)\n",
    "\n",
    "thresholded_map2, threshold2 = threshold_stats_img(\n",
    "    z_map, alpha=0.05, height_control=\"fdr\"\n",
    ")\n",
    "print(f\"The FDR=.05 threshold is {threshold2:.3g}\")\n",
    "thresholded_map2_filename = f\"{result_dir}/FDR_correted_z_map.nii.gz\"\n",
    "thresholded_map2.to_filename(thresholded_map2_filename)\n",
    "\n",
    "thresholded_map3, threshold3 = threshold_stats_img(\n",
    "    z_map, alpha=0.05, height_control=\"bonferroni\"\n",
    ")\n",
    "print(f\"The p<.05 Bonferroni-corrected threshold is {threshold3:.3g}\")\n",
    "thresholded_map3_filename = f\"{result_dir}/bonferroni_correted_z_map.nii.gz\"\n",
    "thresholded_map3.to_filename(thresholded_map3_filename)"
   ]
  },
  {
   "cell_type": "code",
   "execution_count": 17,
   "metadata": {},
   "outputs": [
    {
     "ename": "NameError",
     "evalue": "name 'args' is not defined",
     "output_type": "error",
     "traceback": [
      "\u001b[0;31m---------------------------------------------------------------------------\u001b[0m",
      "\u001b[0;31mNameError\u001b[0m                                 Traceback (most recent call last)",
      "\u001b[1;32m/home/changbae/fmri_project/C-PAC/CPAC/bcb_mdmr/codes/seed_based_analysis/second_level_analysis.ipynb Cell 4\u001b[0m line \u001b[0;36m1\n\u001b[1;32m      <a href='vscode-notebook-cell://ssh-remote%2B7b22686f73744e616d65223a2242484c61622d4368616e67626165227d/home/changbae/fmri_project/C-PAC/CPAC/bcb_mdmr/codes/seed_based_analysis/second_level_analysis.ipynb#W1sdnNjb2RlLXJlbW90ZQ%3D%3D?line=7'>8</a>\u001b[0m second_level_model \u001b[39m=\u001b[39m SecondLevelModel(n_jobs\u001b[39m=\u001b[39m\u001b[39m-\u001b[39m\u001b[39m1\u001b[39m)\n\u001b[1;32m      <a href='vscode-notebook-cell://ssh-remote%2B7b22686f73744e616d65223a2242484c61622d4368616e67626165227d/home/changbae/fmri_project/C-PAC/CPAC/bcb_mdmr/codes/seed_based_analysis/second_level_analysis.ipynb#W1sdnNjb2RlLXJlbW90ZQ%3D%3D?line=8'>9</a>\u001b[0m second_level_model\u001b[39m.\u001b[39mfit(z_maps, design_matrix\u001b[39m=\u001b[39mdesign_matrix)\n\u001b[0;32m---> <a href='vscode-notebook-cell://ssh-remote%2B7b22686f73744e616d65223a2242484c61622d4368616e67626165227d/home/changbae/fmri_project/C-PAC/CPAC/bcb_mdmr/codes/seed_based_analysis/second_level_analysis.ipynb#W1sdnNjb2RlLXJlbW90ZQ%3D%3D?line=10'>11</a>\u001b[0m z_map \u001b[39m=\u001b[39m second_level_model\u001b[39m.\u001b[39mcompute_contrast(args\u001b[39m.\u001b[39mvariable, output_type\u001b[39m=\u001b[39m\u001b[39m'\u001b[39m\u001b[39mz_score\u001b[39m\u001b[39m'\u001b[39m)\n\u001b[1;32m     <a href='vscode-notebook-cell://ssh-remote%2B7b22686f73744e616d65223a2242484c61622d4368616e67626165227d/home/changbae/fmri_project/C-PAC/CPAC/bcb_mdmr/codes/seed_based_analysis/second_level_analysis.ipynb#W1sdnNjb2RlLXJlbW90ZQ%3D%3D?line=12'>13</a>\u001b[0m result_dir \u001b[39m=\u001b[39m \u001b[39mf\u001b[39m\u001b[39m\"\u001b[39m\u001b[39m{\u001b[39;00mseed_anal_dir\u001b[39m}\u001b[39;00m\u001b[39m/\u001b[39m\u001b[39m{\u001b[39;00margs\u001b[39m.\u001b[39msmoothness\u001b[39m}\u001b[39;00m\u001b[39mmm/p_map/\u001b[39m\u001b[39m{\u001b[39;00margs\u001b[39m.\u001b[39mgroup\u001b[39m}\u001b[39;00m\u001b[39m/\u001b[39m\u001b[39m{\u001b[39;00margs\u001b[39m.\u001b[39mvariable\u001b[39m}\u001b[39;00m\u001b[39m/result/\u001b[39m\u001b[39m\"\u001b[39m\n\u001b[1;32m     <a href='vscode-notebook-cell://ssh-remote%2B7b22686f73744e616d65223a2242484c61622d4368616e67626165227d/home/changbae/fmri_project/C-PAC/CPAC/bcb_mdmr/codes/seed_based_analysis/second_level_analysis.ipynb#W1sdnNjb2RlLXJlbW90ZQ%3D%3D?line=13'>14</a>\u001b[0m temp_dir \u001b[39m=\u001b[39m \u001b[39mf\u001b[39m\u001b[39m\"\u001b[39m\u001b[39m{\u001b[39;00mseed_anal_dir\u001b[39m}\u001b[39;00m\u001b[39m/\u001b[39m\u001b[39m{\u001b[39;00margs\u001b[39m.\u001b[39msmoothness\u001b[39m}\u001b[39;00m\u001b[39mmm/p_map/\u001b[39m\u001b[39m{\u001b[39;00margs\u001b[39m.\u001b[39mgroup\u001b[39m}\u001b[39;00m\u001b[39m/\u001b[39m\u001b[39m{\u001b[39;00margs\u001b[39m.\u001b[39mvariable\u001b[39m}\u001b[39;00m\u001b[39m/temp/\u001b[39m\u001b[39m\"\u001b[39m\n",
      "\u001b[0;31mNameError\u001b[0m: name 'args' is not defined"
     ]
    }
   ],
   "source": [
    "design_matrix = regressor_df[['SEX', 'AGE', 'YR_EDU', variable, 'Mean_Framewise_Displacement']]\n",
    "\n",
    "# 인터셉트 열 추가\n",
    "design_matrix.insert(0, 'intercept', 1)\n",
    "\n",
    "z_maps = [f\"{seed_anal_dir}/{smoothness}mm/corr_z-map/seed_{group}_{variable}/sub-{subject_id}_fisher_z_img.nii.gz\" for subject_id in regressor_df['Participant']]\n",
    "\n",
    "second_level_model = SecondLevelModel(n_jobs=-1)\n",
    "second_level_model.fit(z_maps, design_matrix=design_matrix)\n",
    "\n",
    "z_map = second_level_model.compute_contrast(args.variable, output_type='z_score')\n",
    "\n",
    "result_dir = f\"{seed_anal_dir}/{args.smoothness}mm/p_map/{args.group}/{args.variable}/result/\"\n",
    "temp_dir = f\"{seed_anal_dir}/{args.smoothness}mm/p_map/{args.group}/{args.variable}/temp/\"\n",
    "os.makedirs(result_dir, exist_ok=True)\n",
    "\n",
    "p_map_filename = f\"{result_dir}/pvalue_map.nii.gz\"\n",
    "p_map.to_filename(p_map_filename)"
   ]
  },
  {
   "cell_type": "code",
   "execution_count": null,
   "metadata": {},
   "outputs": [],
   "source": []
  }
 ],
 "metadata": {
  "kernelspec": {
   "display_name": "gptpred",
   "language": "python",
   "name": "gptpred"
  },
  "language_info": {
   "codemirror_mode": {
    "name": "ipython",
    "version": 3
   },
   "file_extension": ".py",
   "mimetype": "text/x-python",
   "name": "python",
   "nbconvert_exporter": "python",
   "pygments_lexer": "ipython3",
   "version": "3.11.5"
  }
 },
 "nbformat": 4,
 "nbformat_minor": 2
}
