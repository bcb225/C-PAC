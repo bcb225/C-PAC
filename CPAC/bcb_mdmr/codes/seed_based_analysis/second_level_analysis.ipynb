{
 "cells": [
  {
   "cell_type": "code",
   "execution_count": 6,
   "metadata": {},
   "outputs": [
    {
     "name": "stderr",
     "output_type": "stream",
     "text": [
      "/home/changbae/anaconda3/envs/fmrienv/lib/python3.9/site-packages/nilearn/glm/first_level/design_matrix.py:503: FutureWarning: Setting an item of incompatible dtype is deprecated and will raise an error in a future version of pandas. Value '0.745512495985117' has dtype incompatible with int64, please explicitly cast to a compatible dtype first.\n",
      "  design_matrix.loc[ridx, conf_name] = confounds_value\n",
      "/home/changbae/anaconda3/envs/fmrienv/lib/python3.9/site-packages/nilearn/glm/first_level/design_matrix.py:503: FutureWarning: Setting an item of incompatible dtype is deprecated and will raise an error in a future version of pandas. Value '-1.2635659620320283' has dtype incompatible with int64, please explicitly cast to a compatible dtype first.\n",
      "  design_matrix.loc[ridx, conf_name] = confounds_value\n",
      "/home/changbae/anaconda3/envs/fmrienv/lib/python3.9/site-packages/nilearn/glm/first_level/design_matrix.py:503: FutureWarning: Setting an item of incompatible dtype is deprecated and will raise an error in a future version of pandas. Value '-1.17307358596464' has dtype incompatible with int64, please explicitly cast to a compatible dtype first.\n",
      "  design_matrix.loc[ridx, conf_name] = confounds_value\n",
      "/home/changbae/anaconda3/envs/fmrienv/lib/python3.9/site-packages/nilearn/glm/first_level/design_matrix.py:503: FutureWarning: Setting an item of incompatible dtype is deprecated and will raise an error in a future version of pandas. Value '-0.6121704422317202' has dtype incompatible with int64, please explicitly cast to a compatible dtype first.\n",
      "  design_matrix.loc[ridx, conf_name] = confounds_value\n"
     ]
    }
   ],
   "source": [
    "import pandas as pd\n",
    "import argparse\n",
    "from nilearn.glm.second_level import SecondLevelModel\n",
    "from nilearn import plotting\n",
    "import os\n",
    "from nilearn.glm.second_level import make_second_level_design_matrix\n",
    "from nilearn.maskers import NiftiMasker\n",
    "from sklearn.preprocessing import StandardScaler\n",
    "\n",
    "group = \"gangnam_sad\"\n",
    "variable = \"LSAS\"\n",
    "roi = \"lt_precuneus\"\n",
    "smoothness = 6\n",
    "mdmr_dir = os.path.expanduser(\"~/fmri_project/C-PAC/CPAC/bcb_mdmr/\")\n",
    "nas_dir = os.path.expanduser(\"/mnt/NAS2-2/data/\")\n",
    "MDMR_output_dir = f\"{nas_dir}/SAD_gangnam_MDMR/\"\n",
    "fmri_prep_dir = f\"{nas_dir}/SAD_gangnam_resting_2/fMRIPrep_total\"\n",
    "seed_anal_dir = f\"{nas_dir}/SAD_gangnam_seed_based_analysis/\"\n",
    "\n",
    "regressor_df = pd.read_csv(\n",
    "    f\"{mdmr_dir}/input/{group}_{variable}_regressor.csv\"\n",
    ")\n",
    "\n",
    "subjects_label = regressor_df[\"Participant\"].values\n",
    "# 필요한 열만 선택하여 디자인 매트릭스 생성\n",
    "\n",
    "extra_info_subjects = pd.DataFrame({\n",
    "    \"subject_label\": subjects_label,\n",
    "    variable: regressor_df[variable],\n",
    "    \"sex\": regressor_df[\"SEX\"],\n",
    "    \"age\": regressor_df[\"AGE\"],\n",
    "    \"yr_edu\": regressor_df[\"YR_EDU\"],\n",
    "    \"mean_framewise_displacement\": regressor_df[\"Mean_Framewise_Displacement\"]\n",
    "})\n",
    "\n",
    "# Create a StandardScaler object\n",
    "scaler = StandardScaler()\n",
    "\n",
    "# List of columns to normalize\n",
    "columns_to_normalize = [\"age\", \"yr_edu\", variable, \"mean_framewise_displacement\"]\n",
    "\n",
    "# Normalize the specified columns\n",
    "extra_info_subjects[columns_to_normalize] = scaler.fit_transform(extra_info_subjects[columns_to_normalize])\n",
    "\n",
    "design_matrix = make_second_level_design_matrix(\n",
    "    subjects_label, extra_info_subjects\n",
    ")\n"
   ]
  },
  {
   "cell_type": "code",
   "execution_count": 7,
   "metadata": {},
   "outputs": [],
   "source": [
    "z_maps = [f\"{seed_anal_dir}/{smoothness}mm/corr_z-map/seed_{group}_{variable}_{roi}/sub-{subject_id}_fisher_z_img.nii.gz\" for subject_id in regressor_df['Participant']]\n",
    "second_level_model = SecondLevelModel(n_jobs=-1)\n",
    "second_level_model = second_level_model.fit(\n",
    "    z_maps,\n",
    "    design_matrix=design_matrix,\n",
    ")"
   ]
  },
  {
   "cell_type": "code",
   "execution_count": 8,
   "metadata": {},
   "outputs": [],
   "source": [
    "p_map = second_level_model.compute_contrast(variable,output_type=\"p_value\")\n",
    "t_map = second_level_model.compute_contrast(variable, output_type=\"stat\")\n",
    "\n"
   ]
  },
  {
   "cell_type": "code",
   "execution_count": 9,
   "metadata": {},
   "outputs": [
    {
     "name": "stdout",
     "output_type": "stream",
     "text": [
      "Minimum t-value (excluding zeros): 1.6863147795769546\n",
      "Maximum t-value: 2.787528827809305\n"
     ]
    }
   ],
   "source": [
    "from nilearn import image\n",
    "import numpy as np\n",
    "\n",
    "# p-value 맵에서 0.05 이하인 부분만 마스크 생성\n",
    "mask_img = image.math_img('img < 0.05', img=p_map)\n",
    "\n",
    "# 마스크를 적용하여 t-statistic 맵 필터링\n",
    "masked_t_map = image.math_img('img1 * img2', img1=t_map, img2=mask_img)\n",
    "\n",
    "t_data = image.get_data(masked_t_map)\n",
    "t_min = np.min(t_data[t_data != 0])  # 0이 아닌 값 중 최소값\n",
    "t_max = np.max(t_data)\n",
    "\n",
    "print(f\"Minimum t-value (excluding zeros): {t_min}\")\n",
    "print(f\"Maximum t-value: {t_max}\")\n",
    "masked_t_map.to_filename(f\"{group}_{variable}_{roi}_tmap.nii.gz\")"
   ]
  },
  {
   "cell_type": "code",
   "execution_count": 22,
   "metadata": {},
   "outputs": [
    {
     "data": {
      "text/html": [
       "<div>\n",
       "<style scoped>\n",
       "    .dataframe tbody tr th:only-of-type {\n",
       "        vertical-align: middle;\n",
       "    }\n",
       "\n",
       "    .dataframe tbody tr th {\n",
       "        vertical-align: top;\n",
       "    }\n",
       "\n",
       "    .dataframe thead th {\n",
       "        text-align: right;\n",
       "    }\n",
       "</style>\n",
       "<table border=\"1\" class=\"dataframe\">\n",
       "  <thead>\n",
       "    <tr style=\"text-align: right;\">\n",
       "      <th></th>\n",
       "      <th>Cluster ID</th>\n",
       "      <th>X</th>\n",
       "      <th>Y</th>\n",
       "      <th>Z</th>\n",
       "      <th>Peak Stat</th>\n",
       "      <th>Cluster Size (mm3)</th>\n",
       "    </tr>\n",
       "  </thead>\n",
       "  <tbody>\n",
       "    <tr>\n",
       "      <th>0</th>\n",
       "      <td>1</td>\n",
       "      <td>-64.375</td>\n",
       "      <td>-49.625</td>\n",
       "      <td>-19.0</td>\n",
       "      <td>2.787529</td>\n",
       "      <td>320</td>\n",
       "    </tr>\n",
       "    <tr>\n",
       "      <th>1</th>\n",
       "      <td>2</td>\n",
       "      <td>11.625</td>\n",
       "      <td>34.375</td>\n",
       "      <td>-19.0</td>\n",
       "      <td>2.696145</td>\n",
       "      <td>576</td>\n",
       "    </tr>\n",
       "    <tr>\n",
       "      <th>2</th>\n",
       "      <td>2a</td>\n",
       "      <td>7.625</td>\n",
       "      <td>26.375</td>\n",
       "      <td>-19.0</td>\n",
       "      <td>2.565766</td>\n",
       "      <td></td>\n",
       "    </tr>\n",
       "    <tr>\n",
       "      <th>3</th>\n",
       "      <td>3</td>\n",
       "      <td>-0.375</td>\n",
       "      <td>26.375</td>\n",
       "      <td>-7.0</td>\n",
       "      <td>2.409346</td>\n",
       "      <td>320</td>\n",
       "    </tr>\n",
       "  </tbody>\n",
       "</table>\n",
       "</div>"
      ],
      "text/plain": [
       "  Cluster ID       X       Y     Z  Peak Stat Cluster Size (mm3)\n",
       "0          1 -64.375 -49.625 -19.0   2.787529                320\n",
       "1          2  11.625  34.375 -19.0   2.696145                576\n",
       "2         2a   7.625  26.375 -19.0   2.565766                   \n",
       "3          3  -0.375  26.375  -7.0   2.409346                320"
      ]
     },
     "execution_count": 22,
     "metadata": {},
     "output_type": "execute_result"
    }
   ],
   "source": [
    "from nilearn.reporting import get_clusters_table\n",
    "table, label_maps = get_clusters_table(t_map, stat_threshold=1.68, cluster_threshold=5, return_label_maps=True)\n",
    "table.set_index(\"Cluster ID\", drop=True)\n",
    "table"
   ]
  },
  {
   "cell_type": "code",
   "execution_count": 24,
   "metadata": {},
   "outputs": [],
   "source": [
    "label_maps[0].to_filename(f\"{group}_{variable}_{roi}_cluster_label.nii.gz\")"
   ]
  },
  {
   "cell_type": "code",
   "execution_count": 66,
   "metadata": {},
   "outputs": [
    {
     "name": "stderr",
     "output_type": "stream",
     "text": [
      "Fitting second level model...\n",
      "Computation of second level model done in 0.13392424583435059 seconds\n"
     ]
    }
   ],
   "source": [
    "from nilearn.glm.second_level import non_parametric_inference\n",
    "\n",
    "\n",
    "out_dict = non_parametric_inference(\n",
    "    z_maps,\n",
    "    design_matrix=design_matrix,\n",
    "    second_level_contrast=variable,\n",
    "    n_perm=15000,  # 500 for the sake of time. Ideally, this should be 10,000.\n",
    "    two_sided_test=False,\n",
    "    n_jobs=-1,\n",
    "    verbose=1,\n",
    ")"
   ]
  },
  {
   "cell_type": "code",
   "execution_count": 67,
   "metadata": {},
   "outputs": [],
   "source": [
    "neg_log10_vfwe_pvals_img = out_dict\n",
    "neg_log10_vfwe_pvals_img.to_filename(f\"{group}_{variable}_{roi}_voxel_not_thresholded.nii.gz\")"
   ]
  },
  {
   "cell_type": "code",
   "execution_count": 35,
   "metadata": {},
   "outputs": [],
   "source": [
    "p_cut_off = 0.05\n",
    "voxel_p_value_cutoff = -np.log10(p_cut_off)\n",
    "mask_img = image.math_img(f'img > {voxel_p_value_cutoff}', img=neg_log10_vfwe_pvals_img)\n",
    "masked_p_map = image.math_img('img1 * img2', img1=neg_log10_vfwe_pvals_img, img2=mask_img)\n",
    "masked_p_map.to_filename(f\"{group}_{variable}_voxel_{p_cut_off}.nii.gz\")\n",
    "logp_max_size = out_dict[\"logp_max_size\"]\n",
    "logp_max_t = out_dict[\"logp_max_t\"]\n",
    "cluster_cut_off = 0.05\n",
    "p_cut_off = 0.005\n",
    "cluster_p_value_cutoff = -np.log10(cluster_cut_off)  # p-value 0.05에 해당하는 -log10 값\n",
    "voxel_p_value_cutoff = -np.log10(p_cut_off)\n",
    "mask_img = image.math_img(f'img > {cluster_p_value_cutoff}', img=logp_max_size)\n",
    "mask_img2 = image.math_img(f'img > {voxel_p_value_cutoff}', img=logp_max_t)\n",
    "masked_p_map = image.math_img('img1 * img2', img1=mask_img, img2=mask_img2)\n",
    "masked_p_map.to_filename(f\"voxel_{p_cut_off}_cluster_{cluster_cut_off}_cutoff.nii.gz\")"
   ]
  },
  {
   "cell_type": "code",
   "execution_count": null,
   "metadata": {},
   "outputs": [],
   "source": []
  },
  {
   "cell_type": "code",
   "execution_count": null,
   "metadata": {},
   "outputs": [],
   "source": []
  }
 ],
 "metadata": {
  "kernelspec": {
   "display_name": "fmrienv",
   "language": "python",
   "name": "python3"
  },
  "language_info": {
   "codemirror_mode": {
    "name": "ipython",
    "version": 3
   },
   "file_extension": ".py",
   "mimetype": "text/x-python",
   "name": "python",
   "nbconvert_exporter": "python",
   "pygments_lexer": "ipython3",
   "version": "3.9.19"
  }
 },
 "nbformat": 4,
 "nbformat_minor": 2
}
