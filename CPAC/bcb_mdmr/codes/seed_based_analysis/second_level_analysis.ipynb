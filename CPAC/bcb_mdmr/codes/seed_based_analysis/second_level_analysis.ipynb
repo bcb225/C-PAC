{
 "cells": [
  {
   "cell_type": "code",
   "execution_count": 1,
   "metadata": {},
   "outputs": [
    {
     "name": "stderr",
     "output_type": "stream",
     "text": [
      "/home/changbae/anaconda3/envs/fmrienv/lib/python3.9/site-packages/nilearn/glm/first_level/design_matrix.py:503: FutureWarning: Setting an item of incompatible dtype is deprecated and will raise an error in a future version of pandas. Value '0.745512495985117' has dtype incompatible with int64, please explicitly cast to a compatible dtype first.\n",
      "  design_matrix.loc[ridx, conf_name] = confounds_value\n",
      "/home/changbae/anaconda3/envs/fmrienv/lib/python3.9/site-packages/nilearn/glm/first_level/design_matrix.py:503: FutureWarning: Setting an item of incompatible dtype is deprecated and will raise an error in a future version of pandas. Value '-1.2635659620320283' has dtype incompatible with int64, please explicitly cast to a compatible dtype first.\n",
      "  design_matrix.loc[ridx, conf_name] = confounds_value\n",
      "/home/changbae/anaconda3/envs/fmrienv/lib/python3.9/site-packages/nilearn/glm/first_level/design_matrix.py:503: FutureWarning: Setting an item of incompatible dtype is deprecated and will raise an error in a future version of pandas. Value '-1.17307358596464' has dtype incompatible with int64, please explicitly cast to a compatible dtype first.\n",
      "  design_matrix.loc[ridx, conf_name] = confounds_value\n",
      "/home/changbae/anaconda3/envs/fmrienv/lib/python3.9/site-packages/nilearn/glm/first_level/design_matrix.py:503: FutureWarning: Setting an item of incompatible dtype is deprecated and will raise an error in a future version of pandas. Value '-0.6121704422317202' has dtype incompatible with int64, please explicitly cast to a compatible dtype first.\n",
      "  design_matrix.loc[ridx, conf_name] = confounds_value\n"
     ]
    }
   ],
   "source": [
    "import pandas as pd\n",
    "import argparse\n",
    "from nilearn.glm.second_level import SecondLevelModel\n",
    "from nilearn import plotting\n",
    "import os\n",
    "from nilearn.glm.second_level import make_second_level_design_matrix\n",
    "from nilearn.maskers import NiftiMasker\n",
    "from sklearn.preprocessing import StandardScaler\n",
    "\n",
    "group = \"gangnam_sad\"\n",
    "variable = \"LSAS\"\n",
    "smoothness = 6\n",
    "mdmr_dir = os.path.expanduser(\"~/fmri_project/C-PAC/CPAC/bcb_mdmr/\")\n",
    "nas_dir = os.path.expanduser(\"/mnt/NAS2-2/data/\")\n",
    "MDMR_output_dir = f\"{nas_dir}/SAD_gangnam_MDMR/\"\n",
    "fmri_prep_dir = f\"{nas_dir}/SAD_gangnam_resting_2/fMRIPrep_total\"\n",
    "seed_anal_dir = f\"{nas_dir}/SAD_gangnam_seed_based_analysis/\"\n",
    "\n",
    "regressor_df = pd.read_csv(\n",
    "    f\"{mdmr_dir}/input/{group}_{variable}_regressor.csv\"\n",
    ")\n",
    "\n",
    "subjects_label = regressor_df[\"Participant\"].values\n",
    "# 필요한 열만 선택하여 디자인 매트릭스 생성\n",
    "\n",
    "extra_info_subjects = pd.DataFrame({\n",
    "    \"subject_label\": subjects_label,\n",
    "    variable: regressor_df[variable],\n",
    "    \"sex\": regressor_df[\"SEX\"],\n",
    "    \"age\": regressor_df[\"AGE\"],\n",
    "    \"yr_edu\": regressor_df[\"YR_EDU\"],\n",
    "    \"mean_framewise_displacement\": regressor_df[\"Mean_Framewise_Displacement\"]\n",
    "})\n",
    "\n",
    "# Create a StandardScaler object\n",
    "scaler = StandardScaler()\n",
    "\n",
    "# List of columns to normalize\n",
    "columns_to_normalize = [\"age\", \"yr_edu\", variable, \"mean_framewise_displacement\"]\n",
    "\n",
    "# Normalize the specified columns\n",
    "extra_info_subjects[columns_to_normalize] = scaler.fit_transform(extra_info_subjects[columns_to_normalize])\n",
    "\n",
    "design_matrix = make_second_level_design_matrix(\n",
    "    subjects_label, extra_info_subjects\n",
    ")\n"
   ]
  },
  {
   "cell_type": "code",
   "execution_count": 2,
   "metadata": {},
   "outputs": [
    {
     "data": {
      "text/html": [
       "<div>\n",
       "<style scoped>\n",
       "    .dataframe tbody tr th:only-of-type {\n",
       "        vertical-align: middle;\n",
       "    }\n",
       "\n",
       "    .dataframe tbody tr th {\n",
       "        vertical-align: top;\n",
       "    }\n",
       "\n",
       "    .dataframe thead th {\n",
       "        text-align: right;\n",
       "    }\n",
       "</style>\n",
       "<table border=\"1\" class=\"dataframe\">\n",
       "  <thead>\n",
       "    <tr style=\"text-align: right;\">\n",
       "      <th></th>\n",
       "      <th>LSAS</th>\n",
       "      <th>sex</th>\n",
       "      <th>age</th>\n",
       "      <th>yr_edu</th>\n",
       "      <th>mean_framewise_displacement</th>\n",
       "      <th>intercept</th>\n",
       "    </tr>\n",
       "  </thead>\n",
       "  <tbody>\n",
       "    <tr>\n",
       "      <th>0</th>\n",
       "      <td>0.745512</td>\n",
       "      <td>0</td>\n",
       "      <td>-1.263566</td>\n",
       "      <td>-1.173074</td>\n",
       "      <td>-0.612170</td>\n",
       "      <td>1</td>\n",
       "    </tr>\n",
       "    <tr>\n",
       "      <th>1</th>\n",
       "      <td>-0.070612</td>\n",
       "      <td>0</td>\n",
       "      <td>-1.263566</td>\n",
       "      <td>-1.173074</td>\n",
       "      <td>-0.108372</td>\n",
       "      <td>1</td>\n",
       "    </tr>\n",
       "    <tr>\n",
       "      <th>2</th>\n",
       "      <td>0.609492</td>\n",
       "      <td>0</td>\n",
       "      <td>-1.121879</td>\n",
       "      <td>0.093431</td>\n",
       "      <td>-1.030352</td>\n",
       "      <td>1</td>\n",
       "    </tr>\n",
       "    <tr>\n",
       "      <th>3</th>\n",
       "      <td>-1.113437</td>\n",
       "      <td>0</td>\n",
       "      <td>0.153300</td>\n",
       "      <td>-1.173074</td>\n",
       "      <td>-0.997298</td>\n",
       "      <td>1</td>\n",
       "    </tr>\n",
       "    <tr>\n",
       "      <th>4</th>\n",
       "      <td>-1.022757</td>\n",
       "      <td>1</td>\n",
       "      <td>-0.838506</td>\n",
       "      <td>0.937767</td>\n",
       "      <td>-0.747507</td>\n",
       "      <td>1</td>\n",
       "    </tr>\n",
       "    <tr>\n",
       "      <th>...</th>\n",
       "      <td>...</td>\n",
       "      <td>...</td>\n",
       "      <td>...</td>\n",
       "      <td>...</td>\n",
       "      <td>...</td>\n",
       "      <td>...</td>\n",
       "    </tr>\n",
       "    <tr>\n",
       "      <th>56</th>\n",
       "      <td>1.198915</td>\n",
       "      <td>0</td>\n",
       "      <td>-0.696819</td>\n",
       "      <td>0.515599</td>\n",
       "      <td>2.707122</td>\n",
       "      <td>1</td>\n",
       "    </tr>\n",
       "    <tr>\n",
       "      <th>57</th>\n",
       "      <td>0.926873</td>\n",
       "      <td>1</td>\n",
       "      <td>-0.413446</td>\n",
       "      <td>0.515599</td>\n",
       "      <td>1.908002</td>\n",
       "      <td>1</td>\n",
       "    </tr>\n",
       "    <tr>\n",
       "      <th>58</th>\n",
       "      <td>0.110749</td>\n",
       "      <td>0</td>\n",
       "      <td>0.436674</td>\n",
       "      <td>0.093431</td>\n",
       "      <td>0.715341</td>\n",
       "      <td>1</td>\n",
       "    </tr>\n",
       "    <tr>\n",
       "      <th>59</th>\n",
       "      <td>-0.115952</td>\n",
       "      <td>0</td>\n",
       "      <td>-0.413446</td>\n",
       "      <td>0.515599</td>\n",
       "      <td>-0.214916</td>\n",
       "      <td>1</td>\n",
       "    </tr>\n",
       "    <tr>\n",
       "      <th>60</th>\n",
       "      <td>-0.705375</td>\n",
       "      <td>1</td>\n",
       "      <td>-1.405253</td>\n",
       "      <td>-1.173074</td>\n",
       "      <td>-0.840281</td>\n",
       "      <td>1</td>\n",
       "    </tr>\n",
       "  </tbody>\n",
       "</table>\n",
       "<p>61 rows × 6 columns</p>\n",
       "</div>"
      ],
      "text/plain": [
       "        LSAS  sex       age    yr_edu  mean_framewise_displacement  intercept\n",
       "0   0.745512    0 -1.263566 -1.173074                    -0.612170          1\n",
       "1  -0.070612    0 -1.263566 -1.173074                    -0.108372          1\n",
       "2   0.609492    0 -1.121879  0.093431                    -1.030352          1\n",
       "3  -1.113437    0  0.153300 -1.173074                    -0.997298          1\n",
       "4  -1.022757    1 -0.838506  0.937767                    -0.747507          1\n",
       "..       ...  ...       ...       ...                          ...        ...\n",
       "56  1.198915    0 -0.696819  0.515599                     2.707122          1\n",
       "57  0.926873    1 -0.413446  0.515599                     1.908002          1\n",
       "58  0.110749    0  0.436674  0.093431                     0.715341          1\n",
       "59 -0.115952    0 -0.413446  0.515599                    -0.214916          1\n",
       "60 -0.705375    1 -1.405253 -1.173074                    -0.840281          1\n",
       "\n",
       "[61 rows x 6 columns]"
      ]
     },
     "execution_count": 2,
     "metadata": {},
     "output_type": "execute_result"
    }
   ],
   "source": [
    "design_matrix"
   ]
  },
  {
   "cell_type": "code",
   "execution_count": 3,
   "metadata": {},
   "outputs": [],
   "source": [
    "z_maps = [f\"{seed_anal_dir}/{smoothness}mm/corr_z-map/seed_{group}_{variable}/sub-{subject_id}_fisher_z_img.nii.gz\" for subject_id in regressor_df['Participant']]\n",
    "second_level_model = SecondLevelModel(n_jobs=-1)\n",
    "second_level_model = second_level_model.fit(\n",
    "    z_maps,\n",
    "    design_matrix=design_matrix,\n",
    ")"
   ]
  },
  {
   "cell_type": "code",
   "execution_count": 14,
   "metadata": {},
   "outputs": [
    {
     "name": "stderr",
     "output_type": "stream",
     "text": [
      "/home/changbae/anaconda3/envs/fmrienv/lib/python3.9/site-packages/numpy/core/fromnumeric.py:771: UserWarning: Warning: 'partition' will ignore the 'mask' of the MaskedArray.\n",
      "  a.partition(kth, axis=axis, kind=kind, order=order)\n"
     ]
    }
   ],
   "source": [
    "p_map = second_level_model.compute_contrast(\"LSAS\",output_type=\"p_value\")\n",
    "# 대화형 시각화 추가\n",
    "html_view = plotting.view_img(\n",
    "    stat_map_img = p_map,\n",
    "    colorbar=True,\n",
    "    vmax = 0.05,\n",
    "    title=f\"Interactive P-map for {group} - {variable}\"\n",
    ")\n",
    "\n",
    "# HTML 파일로 저장\n",
    "html_view.open_in_browser()\n"
   ]
  },
  {
   "cell_type": "code",
   "execution_count": 19,
   "metadata": {},
   "outputs": [
    {
     "name": "stdout",
     "output_type": "stream",
     "text": [
      "Minimum t-value (excluding zeros): 1.6863147795769546\n",
      "Maximum t-value: 2.787528827809305\n"
     ]
    },
    {
     "name": "stderr",
     "output_type": "stream",
     "text": [
      "/home/changbae/anaconda3/envs/fmrienv/lib/python3.9/site-packages/numpy/core/fromnumeric.py:771: UserWarning: Warning: 'partition' will ignore the 'mask' of the MaskedArray.\n",
      "  a.partition(kth, axis=axis, kind=kind, order=order)\n"
     ]
    }
   ],
   "source": [
    "from nilearn import image\n",
    "import numpy as np\n",
    "# p-value 맵 계산\n",
    "p_map = second_level_model.compute_contrast(\"LSAS\", output_type=\"p_value\")\n",
    "\n",
    "# t-statistic 맵 계산\n",
    "t_map = second_level_model.compute_contrast(\"LSAS\", output_type=\"stat\")\n",
    "\n",
    "# p-value 맵에서 0.05 이하인 부분만 마스크 생성\n",
    "mask_img = image.math_img('img < 0.05', img=p_map)\n",
    "\n",
    "# 마스크를 적용하여 t-statistic 맵 필터링\n",
    "masked_t_map = image.math_img('img1 * img2', img1=t_map, img2=mask_img)\n",
    "\n",
    "t_data = image.get_data(masked_t_map)\n",
    "t_min = np.min(t_data[t_data != 0])  # 0이 아닌 값 중 최소값\n",
    "t_max = np.max(t_data)\n",
    "\n",
    "print(f\"Minimum t-value (excluding zeros): {t_min}\")\n",
    "print(f\"Maximum t-value: {t_max}\")\n",
    "\n",
    "\n",
    "# 결과 시각화\n",
    "html_view = plotting.view_img(\n",
    "    stat_map_img=masked_t_map,\n",
    "    colorbar=True,\n",
    "    threshold=0,  # 0 이상의 모든 값 표시 (마스크가 이미 적용되었으므로)\n",
    "    title=f\"Interactive T-map (p<0.05) for {group} - {variable}\"\n",
    ")\n",
    "\n",
    "# HTML 파일로 저장\n",
    "html_view.open_in_browser()\n"
   ]
  },
  {
   "cell_type": "code",
   "execution_count": 21,
   "metadata": {},
   "outputs": [],
   "source": [
    "# p-value 맵에서 0.05 이하인 부분만 마스크 생성\n",
    "positive_t_img = image.math_img('img > 0', img=t_map)\n",
    "\n",
    "# 마스크를 적용하여 t-statistic 맵 필터링\n",
    "unmasked_t_img = image.math_img('img1 * img2', img1=t_map, img2=positive_t_img)"
   ]
  },
  {
   "cell_type": "code",
   "execution_count": 22,
   "metadata": {},
   "outputs": [],
   "source": [
    "masked_t_map.to_filename(f\"./{group}_{variable}_masked_tmap.nii.gz\")\n",
    "unmasked_t_img.to_filename(f\"./{group}_{variable}_unthresholded_tmap.nii.gz\")"
   ]
  },
  {
   "cell_type": "code",
   "execution_count": null,
   "metadata": {},
   "outputs": [],
   "source": [
    "from nilearn import image\n",
    "import numpy as np\n",
    "# p-value 맵 계산\n",
    "p_map = second_level_model.compute_contrast(\"LSAS\", output_type=\"p_value\")\n",
    "\n",
    "# t-statistic 맵 계산\n",
    "t_map = second_level_model.compute_contrast(\"LSAS\", output_type=\"stat\")\n",
    "\n",
    "# p-value 맵에서 0.05 이하인 부분만 마스크 생성\n",
    "mask_img = image.math_img('img < 0.05', img=p_map)\n",
    "\n",
    "# 마스크를 적용하여 t-statistic 맵 필터링\n",
    "masked_t_map = image.math_img('img1 * img2', img1=t_map, img2=mask_img)\n",
    "\n",
    "t_data = image.get_data(masked_t_map)\n",
    "t_min = np.min(t_data[t_data != 0])  # 0이 아닌 값 중 최소값\n",
    "t_max = np.max(t_data)\n",
    "\n",
    "print(f\"Minimum t-value (excluding zeros): {t_min}\")\n",
    "print(f\"Maximum t-value: {t_max}\")\n",
    "\n",
    "\n",
    "# 결과 시각화\n",
    "html_view = plotting.view_img(\n",
    "    stat_map_img=masked_t_map,\n",
    "    colorbar=True,\n",
    "    threshold=0,  # 0 이상의 모든 값 표시 (마스크가 이미 적용되었으므로)\n",
    "    title=f\"Interactive T-map (p<0.05) for {group} - {variable}\"\n",
    ")\n",
    "\n",
    "# HTML 파일로 저장\n",
    "html_view.open_in_browser()\n"
   ]
  },
  {
   "cell_type": "code",
   "execution_count": 5,
   "metadata": {},
   "outputs": [
    {
     "ename": "NameError",
     "evalue": "name 'z_map' is not defined",
     "output_type": "error",
     "traceback": [
      "\u001b[0;31m---------------------------------------------------------------------------\u001b[0m",
      "\u001b[0;31mNameError\u001b[0m                                 Traceback (most recent call last)",
      "\u001b[1;32m/home/changbae/fmri_project/C-PAC/CPAC/bcb_mdmr/codes/seed_based_analysis/second_level_analysis.ipynb Cell 5\u001b[0m line \u001b[0;36m4\n\u001b[1;32m      <a href='vscode-notebook-cell://ssh-remote%2B7b22686f73744e616d65223a2242484c61622d4368616e67626165227d/home/changbae/fmri_project/C-PAC/CPAC/bcb_mdmr/codes/seed_based_analysis/second_level_analysis.ipynb#X26sdnNjb2RlLXJlbW90ZQ%3D%3D?line=0'>1</a>\u001b[0m \u001b[39mfrom\u001b[39;00m \u001b[39mnilearn\u001b[39;00m\u001b[39m.\u001b[39;00m\u001b[39mglm\u001b[39;00m \u001b[39mimport\u001b[39;00m threshold_stats_img\n\u001b[1;32m      <a href='vscode-notebook-cell://ssh-remote%2B7b22686f73744e616d65223a2242484c61622d4368616e67626165227d/home/changbae/fmri_project/C-PAC/CPAC/bcb_mdmr/codes/seed_based_analysis/second_level_analysis.ipynb#X26sdnNjb2RlLXJlbW90ZQ%3D%3D?line=2'>3</a>\u001b[0m thresholded_map1, threshold1 \u001b[39m=\u001b[39m threshold_stats_img(\n\u001b[0;32m----> <a href='vscode-notebook-cell://ssh-remote%2B7b22686f73744e616d65223a2242484c61622d4368616e67626165227d/home/changbae/fmri_project/C-PAC/CPAC/bcb_mdmr/codes/seed_based_analysis/second_level_analysis.ipynb#X26sdnNjb2RlLXJlbW90ZQ%3D%3D?line=3'>4</a>\u001b[0m     z_map,\n\u001b[1;32m      <a href='vscode-notebook-cell://ssh-remote%2B7b22686f73744e616d65223a2242484c61622d4368616e67626165227d/home/changbae/fmri_project/C-PAC/CPAC/bcb_mdmr/codes/seed_based_analysis/second_level_analysis.ipynb#X26sdnNjb2RlLXJlbW90ZQ%3D%3D?line=4'>5</a>\u001b[0m     alpha\u001b[39m=\u001b[39m\u001b[39m0.001\u001b[39m,\n\u001b[1;32m      <a href='vscode-notebook-cell://ssh-remote%2B7b22686f73744e616d65223a2242484c61622d4368616e67626165227d/home/changbae/fmri_project/C-PAC/CPAC/bcb_mdmr/codes/seed_based_analysis/second_level_analysis.ipynb#X26sdnNjb2RlLXJlbW90ZQ%3D%3D?line=5'>6</a>\u001b[0m     height_control\u001b[39m=\u001b[39m\u001b[39m\"\u001b[39m\u001b[39mfpr\u001b[39m\u001b[39m\"\u001b[39m,\n\u001b[1;32m      <a href='vscode-notebook-cell://ssh-remote%2B7b22686f73744e616d65223a2242484c61622d4368616e67626165227d/home/changbae/fmri_project/C-PAC/CPAC/bcb_mdmr/codes/seed_based_analysis/second_level_analysis.ipynb#X26sdnNjb2RlLXJlbW90ZQ%3D%3D?line=6'>7</a>\u001b[0m     cluster_threshold\u001b[39m=\u001b[39m\u001b[39m10\u001b[39m,\n\u001b[1;32m      <a href='vscode-notebook-cell://ssh-remote%2B7b22686f73744e616d65223a2242484c61622d4368616e67626165227d/home/changbae/fmri_project/C-PAC/CPAC/bcb_mdmr/codes/seed_based_analysis/second_level_analysis.ipynb#X26sdnNjb2RlLXJlbW90ZQ%3D%3D?line=7'>8</a>\u001b[0m     two_sided\u001b[39m=\u001b[39m\u001b[39mTrue\u001b[39;00m,\n\u001b[1;32m      <a href='vscode-notebook-cell://ssh-remote%2B7b22686f73744e616d65223a2242484c61622d4368616e67626165227d/home/changbae/fmri_project/C-PAC/CPAC/bcb_mdmr/codes/seed_based_analysis/second_level_analysis.ipynb#X26sdnNjb2RlLXJlbW90ZQ%3D%3D?line=8'>9</a>\u001b[0m )\n\u001b[1;32m     <a href='vscode-notebook-cell://ssh-remote%2B7b22686f73744e616d65223a2242484c61622d4368616e67626165227d/home/changbae/fmri_project/C-PAC/CPAC/bcb_mdmr/codes/seed_based_analysis/second_level_analysis.ipynb#X26sdnNjb2RlLXJlbW90ZQ%3D%3D?line=10'>11</a>\u001b[0m html_view \u001b[39m=\u001b[39m plotting\u001b[39m.\u001b[39mview_img(\n\u001b[1;32m     <a href='vscode-notebook-cell://ssh-remote%2B7b22686f73744e616d65223a2242484c61622d4368616e67626165227d/home/changbae/fmri_project/C-PAC/CPAC/bcb_mdmr/codes/seed_based_analysis/second_level_analysis.ipynb#X26sdnNjb2RlLXJlbW90ZQ%3D%3D?line=11'>12</a>\u001b[0m     thresholded_map1,\n\u001b[1;32m     <a href='vscode-notebook-cell://ssh-remote%2B7b22686f73744e616d65223a2242484c61622d4368616e67626165227d/home/changbae/fmri_project/C-PAC/CPAC/bcb_mdmr/codes/seed_based_analysis/second_level_analysis.ipynb#X26sdnNjb2RlLXJlbW90ZQ%3D%3D?line=12'>13</a>\u001b[0m )\n\u001b[1;32m     <a href='vscode-notebook-cell://ssh-remote%2B7b22686f73744e616d65223a2242484c61622d4368616e67626165227d/home/changbae/fmri_project/C-PAC/CPAC/bcb_mdmr/codes/seed_based_analysis/second_level_analysis.ipynb#X26sdnNjb2RlLXJlbW90ZQ%3D%3D?line=14'>15</a>\u001b[0m html_view\u001b[39m.\u001b[39mopen_in_browser()\n",
      "\u001b[0;31mNameError\u001b[0m: name 'z_map' is not defined"
     ]
    }
   ],
   "source": [
    "from nilearn.glm import threshold_stats_img\n",
    "\n",
    "thresholded_map1, threshold1 = threshold_stats_img(\n",
    "    z_map,\n",
    "    alpha=0.001,\n",
    "    height_control=\"fpr\",\n",
    "    cluster_threshold=10,\n",
    "    two_sided=True,\n",
    ")\n",
    "\n",
    "html_view = plotting.view_img(\n",
    "    thresholded_map1,\n",
    ")\n",
    "\n",
    "html_view.open_in_browser()"
   ]
  },
  {
   "cell_type": "code",
   "execution_count": 27,
   "metadata": {},
   "outputs": [
    {
     "name": "stdout",
     "output_type": "stream",
     "text": [
      "Coordinates of maximal positive connectivity: [-64.375 -49.625 -19.   ]\n",
      "Maximum t-value: 2.787528827809305\n"
     ]
    },
    {
     "data": {
      "image/png": "[encoded data removed]",
      "text/plain": [
       "<Figure size 730x350 with 5 Axes>"
      ]
     },
     "metadata": {},
     "output_type": "display_data"
    }
   ],
   "source": [
    "import numpy as np\n",
    "from nilearn import image, plotting, masking\n",
    "from scipy import ndimage\n",
    "t_data = image.get_data(masked_t_map)\n",
    "max_coord = np.unravel_index(t_data.argmax(), t_data.shape)\n",
    "\n",
    "# voxel 좌표를 mm 좌표로 변환\n",
    "affine = masked_t_map.affine\n",
    "max_coord_mm = np.dot(affine, np.hstack((max_coord, 1)))[:3]\n",
    "\n",
    "max_t_value = t_data[max_coord]\n",
    "\n",
    "print(f\"Coordinates of maximal positive connectivity: {max_coord_mm}\")\n",
    "print(f\"Maximum t-value: {max_t_value}\")\n",
    "\n",
    "# 6mm 반경의 구형 마스크 생성\n",
    "mask = masking.compute_epi_mask(masked_t_map)\n",
    "mask_data = image.get_data(mask)\n",
    "sphere_data = np.zeros_like(mask_data)\n",
    "\n",
    "vox_coords = np.array(np.where(mask_data)).T\n",
    "for vox in vox_coords:\n",
    "    if np.linalg.norm(np.dot(affine, np.hstack((vox, 1)))[:3] - max_coord_mm) <= 6:\n",
    "        sphere_data[vox[0], vox[1], vox[2]] = 1\n",
    "\n",
    "sphere = image.new_img_like(masked_t_map, sphere_data)\n",
    "\n",
    "# 결과 시각화\n",
    "display = plotting.plot_stat_map(masked_t_map, \n",
    "                                 threshold=0, \n",
    "                                 cut_coords=max_coord_mm,\n",
    "                                 title=\"T-map with 6mm sphere at maximal positive connectivity\")\n",
    "\n",
    "# 구를 그립니다\n",
    "display.add_contours(sphere, colors='r', levels=[0.5], linewidths=2)\n",
    "\n",
    "# 대화형 시각화\n",
    "html_view = plotting.view_img(\n",
    "    stat_map_img=masked_t_map,\n",
    "    bg_img=sphere,  # 구를 배경 이미지로 사용\n",
    "    colorbar=True,\n",
    "    threshold=0,\n",
    "    cut_coords=max_coord_mm,\n",
    "    title=f\"T-map with 6mm sphere at maximal positive connectivity\\nCoord: {max_coord_mm}\\nMax t-value: {max_t_value:.4f}\"\n",
    ")\n",
    "html_view.open_in_browser()"
   ]
  },
  {
   "cell_type": "code",
   "execution_count": 33,
   "metadata": {},
   "outputs": [
    {
     "name": "stdout",
     "output_type": "stream",
     "text": [
      "Top 5 local maxima:\n",
      "1. Coordinate: [-64.375 -49.625 -19.   ], T-value: 2.787528827809305\n",
      "2. Coordinate: [ 11.625  34.375 -19.   ], T-value: 2.6961445272302553\n",
      "3. Coordinate: [  7.625  26.375 -19.   ], T-value: 2.5657658640442365\n",
      "4. Coordinate: [-12.375  42.375 -27.   ], T-value: 2.465607197801048\n",
      "5. Coordinate: [-0.375 26.375 -7.   ], T-value: 2.4093460944752123\n"
     ]
    },
    {
     "name": "stderr",
     "output_type": "stream",
     "text": [
      "/tmp/ipykernel_6042/2481208949.py:56: UserWarning: This figure includes Axes that are not compatible with tight_layout, so results might be incorrect.\n",
      "  plt.tight_layout(rect=[0, 0.03, 1, 0.95])  # 제목을 위한 공간 확보\n"
     ]
    }
   ],
   "source": [
    "import numpy as np\n",
    "from nilearn import image, plotting\n",
    "from scipy import ndimage\n",
    "import matplotlib.pyplot as plt\n",
    "def get_top_n_local_maxima(img, n=5, min_distance=6):\n",
    "    data = image.get_data(img)\n",
    "    affine = img.affine\n",
    "    \n",
    "    size = np.ceil(min_distance / np.max(np.abs(affine[:3, :3]))).astype(int)\n",
    "    mask = ndimage.maximum_filter(data, size=size) == data\n",
    "    mask &= data > 0\n",
    "    \n",
    "    coordinates = np.argwhere(mask)\n",
    "    values = data[mask]\n",
    "    \n",
    "    order = np.argsort(values)[::-1]\n",
    "    top_coordinates = coordinates[order][:n]\n",
    "    top_values = values[order][:n]\n",
    "    \n",
    "    mm_coordinates = np.dot(affine[:3, :3], top_coordinates.T).T + affine[:3, 3]\n",
    "    \n",
    "    return mm_coordinates, top_values\n",
    "\n",
    "# Top 5 local maxima를 찾습니다\n",
    "top_coords, top_values = get_top_n_local_maxima(masked_t_map, n=5)\n",
    "\n",
    "# 결과 출력\n",
    "print(\"Top 5 local maxima:\")\n",
    "for i, (coord, value) in enumerate(zip(top_coords, top_values), 1):\n",
    "    print(f\"{i}. Coordinate: {coord}, T-value: {value}\")\n",
    "\n",
    "# 각 local maximum에 대해 개별 이미지를 생성합니다\n",
    "for i, (coord, value) in enumerate(zip(top_coords, top_values), 1):\n",
    "    # 이미지 생성\n",
    "    fig, axes = plt.subplots(1, 3, figsize=(15, 5))\n",
    "    \n",
    "    # 각 축에 대해 개별적으로 plot_stat_map 호출\n",
    "    for j, (ax, direction) in enumerate(zip(axes, ['x', 'y', 'z'])):\n",
    "        display = plotting.plot_stat_map(\n",
    "            masked_t_map,\n",
    "            display_mode=direction,\n",
    "            cut_coords=[coord[j]],  # 해당 좌표를 중심으로 슬라이스 표시\n",
    "            draw_cross=False,\n",
    "            threshold=0,\n",
    "            axes=ax,\n",
    "            figure=fig\n",
    "        )\n",
    "        \n",
    "        # 동그라미 추가\n",
    "        ax.add_artist(plt.Circle((0, 0), radius=10, fill=False, color='r', linewidth=2))\n",
    "    \n",
    "    # 전체 제목 추가\n",
    "    fig.suptitle(f\"Local Maximum {i}: T-value = {value:.2f}\\nCoordinate: {coord}\", fontsize=16)\n",
    "    \n",
    "    # 이미지 저장\n",
    "    plt.tight_layout(rect=[0, 0.03, 1, 0.95])  # 제목을 위한 공간 확보\n",
    "    plt.savefig(f\"local_maximum_{i}.png\")\n",
    "    plt.close()\n",
    "\n",
    "print(\"Static images have been saved as 'local_maximum_1.png', 'local_maximum_2.png', etc.\")"
   ]
  },
  {
   "cell_type": "code",
   "execution_count": 70,
   "metadata": {},
   "outputs": [
    {
     "name": "stdout",
     "output_type": "stream",
     "text": [
      "The FDR=.05 threshold is 2.44\n",
      "The p<.05 Bonferroni-corrected threshold is 4.71\n"
     ]
    }
   ],
   "source": [
    "z_map = second_level_model.compute_contrast(\"LSAS\", output_type='z_score')\n",
    "\n",
    "result_dir = f\"{seed_anal_dir}/{smoothness}mm/p_map/{group}/{variable}/result/\"\n",
    "temp_dir = f\"{seed_anal_dir}/{smoothness}mm/p_map/{group}/{variable}/temp/\"\n",
    "os.makedirs(result_dir, exist_ok=True)\n",
    "from nilearn.glm import threshold_stats_img\n",
    "z_map_filename = f\"./unthresholded_z_map.nii.gz\"\n",
    "z_map.to_filename(z_map_filename)\n",
    "\n",
    "thresholded_map2, threshold2 = threshold_stats_img(\n",
    "    z_map, alpha=0.05, height_control=\"fdr\"\n",
    ")\n",
    "print(f\"The FDR=.05 threshold is {threshold2:.3g}\")\n",
    "thresholded_map2_filename = f\"./FDR_correted_z_map.nii.gz\"\n",
    "thresholded_map2.to_filename(thresholded_map2_filename)\n",
    "\n",
    "thresholded_map3, threshold3 = threshold_stats_img(\n",
    "    z_map, alpha=0.05, height_control=\"bonferroni\"\n",
    ")\n",
    "print(f\"The p<.05 Bonferroni-corrected threshold is {threshold3:.3g}\")\n",
    "thresholded_map3_filename = f\"./bonferroni_correted_z_map.nii.gz\"\n",
    "thresholded_map3.to_filename(thresholded_map3_filename)"
   ]
  },
  {
   "cell_type": "code",
   "execution_count": 71,
   "metadata": {},
   "outputs": [],
   "source": [
    "p_map = second_level_model.compute_contrast(\n",
    "    second_level_contrast = \"LSAS\", \n",
    "    output_type='p_value')\n",
    "\n",
    "p_map_filename = f\"./p_value_map.nii.gz\"\n",
    "p_map.to_filename(p_map_filename)"
   ]
  },
  {
   "cell_type": "code",
   "execution_count": 59,
   "metadata": {},
   "outputs": [
    {
     "name": "stderr",
     "output_type": "stream",
     "text": [
      "Fitting second level model...\n",
      "Computation of second level model done in 0.17004847526550293 seconds\n",
      "/home/brain/.conda/envs/gptpred/lib/python3.11/site-packages/nilearn/mass_univariate/permuted_least_squares.py:986: UserWarning: Data array used to create a new image contains 64-bit ints. This is likely due to creating the array with numpy and passing `int` as the `dtype`. Many tools such as FSL and SPM cannot deal with int64 in Nifti images, so for compatibility the data has been converted to int32.\n",
      "  image.new_img_like(masker.mask_img_, metric_map),\n",
      "/home/brain/.conda/envs/gptpred/lib/python3.11/site-packages/nilearn/masking.py:980: UserWarning: Data array used to create a new image contains 64-bit ints. This is likely due to creating the array with numpy and passing `int` as the `dtype`. Many tools such as FSL and SPM cannot deal with int64 in Nifti images, so for compatibility the data has been converted to int32.\n",
      "  return new_img_like(mask_img, unmasked, affine)\n"
     ]
    }
   ],
   "source": [
    "from nilearn.glm.second_level import non_parametric_inference\n",
    "\n",
    "\n",
    "out_dict = non_parametric_inference(\n",
    "    z_maps,\n",
    "    design_matrix=design_matrix,\n",
    "    second_level_contrast=\"LSAS\",\n",
    "    n_perm=15000,  # 500 for the sake of time. Ideally, this should be 10,000.\n",
    "    two_sided_test=True,\n",
    "    n_jobs=-1,\n",
    "    threshold=0.005,\n",
    "    verbose=1,\n",
    ")"
   ]
  },
  {
   "cell_type": "code",
   "execution_count": 61,
   "metadata": {},
   "outputs": [
    {
     "name": "stdout",
     "output_type": "stream",
     "text": [
      "총 복셀 수: 84084\n",
      "복셀 단위 임계값 (-log10(p) > 2.3010)을 통과한 복셀 수: 0\n",
      "클러스터 단위 임계값 (-log10(p) > 1.3010)을 통과한 복셀 수: 2357\n",
      "두 임계값을 모두 통과한 복셀 수: 0\n",
      "-log10(0.005) = 2.3010\n",
      "-log10(0.05) = 1.3010\n"
     ]
    }
   ],
   "source": [
    "import numpy as np\n",
    "import nibabel as nib\n",
    "\n",
    "def threshold_results(out_dict, voxel_threshold=0.005, cluster_threshold=0.05):\n",
    "    # Get images directly from out_dict\n",
    "    logp_max_t_img = out_dict['logp_max_t']\n",
    "    logp_max_size_img = out_dict['logp_max_size']\n",
    "\n",
    "    # Get data and affine\n",
    "    logp_max_t_data = logp_max_t_img.get_fdata()\n",
    "    logp_max_size_data = logp_max_size_img.get_fdata()\n",
    "    affine = logp_max_t_img.affine\n",
    "\n",
    "    # Convert -log10(p) to p-values\n",
    "    voxel_p_values = 10 ** (-logp_max_t_data)\n",
    "    cluster_p_values = 10 ** (-logp_max_size_data)\n",
    "\n",
    "    # Calculate -log10(p) thresholds\n",
    "    voxel_logp_threshold = -np.log10(voxel_threshold)\n",
    "    cluster_logp_threshold = -np.log10(cluster_threshold)\n",
    "\n",
    "    # Create masks\n",
    "    voxel_mask = logp_max_t_data > voxel_logp_threshold\n",
    "    cluster_mask = logp_max_size_data > cluster_logp_threshold\n",
    "\n",
    "    # Combine masks\n",
    "    combined_mask = voxel_mask & cluster_mask\n",
    "\n",
    "    # Count voxels in each mask\n",
    "    total_voxels = np.prod(voxel_mask.shape)\n",
    "    voxel_mask_count = np.sum(voxel_mask)\n",
    "    cluster_mask_count = np.sum(cluster_mask)\n",
    "    combined_mask_count = np.sum(combined_mask)\n",
    "\n",
    "    # Print voxel counts and thresholds\n",
    "    print(f\"총 복셀 수: {total_voxels}\")\n",
    "    print(f\"복셀 단위 임계값 (-log10(p) > {voxel_logp_threshold:.4f})을 통과한 복셀 수: {voxel_mask_count}\")\n",
    "    print(f\"클러스터 단위 임계값 (-log10(p) > {cluster_logp_threshold:.4f})을 통과한 복셀 수: {cluster_mask_count}\")\n",
    "    print(f\"두 임계값을 모두 통과한 복셀 수: {combined_mask_count}\")\n",
    "\n",
    "    # Apply combined mask to voxel-wise -log10(p) values\n",
    "    final_logp_values = np.where(combined_mask, logp_max_t_data, 0)\n",
    "\n",
    "    # Create and save the final images\n",
    "    final_t_img = nib.Nifti1Image(logp_max_t_data, affine)\n",
    "    final_size_img = nib.Nifti1Image(logp_max_size_data, affine)\n",
    "    final_combined_img = nib.Nifti1Image(final_logp_values, affine)\n",
    "\n",
    "    nib.save(final_t_img, 'logp_max_t.nii.gz')\n",
    "    nib.save(final_size_img, 'logp_max_size.nii.gz')\n",
    "    nib.save(final_combined_img, 'thresholded_logp_values.nii.gz')\n",
    "\n",
    "    return final_combined_img\n",
    "\n",
    "# Usage\n",
    "thresholded_img = threshold_results(out_dict)\n",
    "\n",
    "# Print -log10(p) values for p=0.005 and p=0.05\n",
    "print(f\"-log10(0.005) = {-np.log10(0.005):.4f}\")\n",
    "print(f\"-log10(0.05) = {-np.log10(0.05):.4f}\")"
   ]
  },
  {
   "cell_type": "code",
   "execution_count": null,
   "metadata": {},
   "outputs": [],
   "source": [
    "p_map_filename = \"./logp_max_t.nii.gz\"\n",
    "out_dict[\"logp_max_t\"].to_filename(p_map_filename)\n",
    "\n",
    "p_map_filename = \"./logp_max_size.nii.gz\"\n",
    "out_dict[\"logp_max_size\"].to_filename(p_map_filename)"
   ]
  },
  {
   "cell_type": "code",
   "execution_count": 52,
   "metadata": {},
   "outputs": [],
   "source": [
    "second_level_model = SecondLevelModel(n_jobs=-1)\n",
    "z_maps = [f\"{seed_anal_dir}/{smoothness}mm/corr_z-map/seed_{group}_{variable}/sub-{subject_id}_fisher_z_img.nii.gz\" for subject_id in regressor_df['Participant']]\n",
    "\n",
    "second_level_model = second_level_model.fit(\n",
    "    z_maps,\n",
    "    design_matrix=design_matrix,\n",
    ")\n",
    "\n",
    "output = second_level_model.compute_contrast(\n",
    "    second_level_contrast=\"LSAS\",\n",
    "    output_type=\"p_value\"\n",
    ")\n",
    "\n",
    "p_map_filename = \"./p_val.nii.gz\"\n",
    "output.to_filename(p_map_filename)"
   ]
  },
  {
   "cell_type": "code",
   "execution_count": 65,
   "metadata": {},
   "outputs": [
    {
     "name": "stdout",
     "output_type": "stream",
     "text": [
      "The FDR=.005 threshold is 2.44\n",
      "The p<.05 Bonferroni-corrected threshold is 4.71\n"
     ]
    }
   ],
   "source": [
    "z_map = second_level_model.compute_contrast(\"LSAS\", output_type='z_score')\n",
    "from nilearn.glm import threshold_stats_img\n",
    "\n",
    "thresholded_map2, threshold2 = threshold_stats_img(\n",
    "    z_map, alpha=0.05, height_control=\"fdr\", cluster_threshold = 0.05\n",
    ")\n",
    "print(f\"The FDR=.005 threshold is {threshold2:.3g}\")\n",
    "thresholded_map2_filename = \"./FDR_correted_z_map.nii.gz\"\n",
    "thresholded_map2.to_filename(thresholded_map2_filename)\n",
    "\n",
    "thresholded_map3, threshold3 = threshold_stats_img(\n",
    "    z_map, alpha=0.05, height_control=\"bonferroni\"\n",
    ")\n",
    "print(f\"The p<.05 Bonferroni-corrected threshold is {threshold3:.3g}\")\n",
    "thresholded_map3_filename = f\"bonferroni_correted_z_map.nii.gz\"\n",
    "thresholded_map3.to_filename(thresholded_map3_filename)"
   ]
  },
  {
   "cell_type": "code",
   "execution_count": 28,
   "metadata": {},
   "outputs": [
    {
     "name": "stderr",
     "output_type": "stream",
     "text": [
      "Fitting second level model...\n",
      "Computation of second level model done in 0.15488076210021973 seconds\n",
      "/home/brain/.conda/envs/gptpred/lib/python3.11/site-packages/nilearn/mass_univariate/permuted_least_squares.py:986: UserWarning: Data array used to create a new image contains 64-bit ints. This is likely due to creating the array with numpy and passing `int` as the `dtype`. Many tools such as FSL and SPM cannot deal with int64 in Nifti images, so for compatibility the data has been converted to int32.\n",
      "  image.new_img_like(masker.mask_img_, metric_map),\n",
      "/home/brain/.conda/envs/gptpred/lib/python3.11/site-packages/nilearn/masking.py:980: UserWarning: Data array used to create a new image contains 64-bit ints. This is likely due to creating the array with numpy and passing `int` as the `dtype`. Many tools such as FSL and SPM cannot deal with int64 in Nifti images, so for compatibility the data has been converted to int32.\n",
      "  return new_img_like(mask_img, unmasked, affine)\n"
     ]
    }
   ],
   "source": []
  },
  {
   "cell_type": "markdown",
   "metadata": {},
   "source": []
  },
  {
   "cell_type": "code",
   "execution_count": 29,
   "metadata": {},
   "outputs": [],
   "source": [
    "p_map_filename = \"./logp_max_t.nii.gz\"\n",
    "out_dict[\"logp_max_t\"].to_filename(p_map_filename)"
   ]
  },
  {
   "cell_type": "code",
   "execution_count": 27,
   "metadata": {},
   "outputs": [],
   "source": [
    "p_map_filename = \"./logp_max_size.nii.gz\"\n",
    "out_dict[\"logp_max_size\"].to_filename(p_map_filename)"
   ]
  },
  {
   "cell_type": "code",
   "execution_count": 16,
   "metadata": {},
   "outputs": [
    {
     "name": "stdout",
     "output_type": "stream",
     "text": [
      "The FDR=.05 threshold is 2.15\n",
      "The p<.05 Bonferroni-corrected threshold is 4.71\n"
     ]
    }
   ],
   "source": [
    "z_map = second_level_model.compute_contrast(\"LSAS\", output_type='z_score')\n",
    "\n",
    "result_dir = f\"{seed_anal_dir}/{smoothness}mm/p_map/{group}/{variable}/result/\"\n",
    "temp_dir = f\"{seed_anal_dir}/{smoothness}mm/p_map/{group}/{variable}/temp/\"\n",
    "os.makedirs(result_dir, exist_ok=True)\n",
    "from nilearn.glm import threshold_stats_img\n",
    "z_map_filename = f\"{result_dir}/unthresholded_z_map.nii.gz\"\n",
    "z_map.to_filename(z_map_filename)\n",
    "\n",
    "thresholded_map2, threshold2 = threshold_stats_img(\n",
    "    z_map, alpha=0.05, height_control=\"fdr\"\n",
    ")\n",
    "print(f\"The FDR=.05 threshold is {threshold2:.3g}\")\n",
    "thresholded_map2_filename = f\"{result_dir}/FDR_correted_z_map.nii.gz\"\n",
    "thresholded_map2.to_filename(thresholded_map2_filename)\n",
    "\n",
    "thresholded_map3, threshold3 = threshold_stats_img(\n",
    "    z_map, alpha=0.05, height_control=\"bonferroni\"\n",
    ")\n",
    "print(f\"The p<.05 Bonferroni-corrected threshold is {threshold3:.3g}\")\n",
    "thresholded_map3_filename = f\"{result_dir}/bonferroni_correted_z_map.nii.gz\"\n",
    "thresholded_map3.to_filename(thresholded_map3_filename)"
   ]
  },
  {
   "cell_type": "code",
   "execution_count": 17,
   "metadata": {},
   "outputs": [
    {
     "ename": "NameError",
     "evalue": "name 'args' is not defined",
     "output_type": "error",
     "traceback": [
      "\u001b[0;31m---------------------------------------------------------------------------\u001b[0m",
      "\u001b[0;31mNameError\u001b[0m                                 Traceback (most recent call last)",
      "\u001b[1;32m/home/changbae/fmri_project/C-PAC/CPAC/bcb_mdmr/codes/seed_based_analysis/second_level_analysis.ipynb Cell 4\u001b[0m line \u001b[0;36m1\n\u001b[1;32m      <a href='vscode-notebook-cell://ssh-remote%2B7b22686f73744e616d65223a2242484c61622d4368616e67626165227d/home/changbae/fmri_project/C-PAC/CPAC/bcb_mdmr/codes/seed_based_analysis/second_level_analysis.ipynb#W1sdnNjb2RlLXJlbW90ZQ%3D%3D?line=7'>8</a>\u001b[0m second_level_model \u001b[39m=\u001b[39m SecondLevelModel(n_jobs\u001b[39m=\u001b[39m\u001b[39m-\u001b[39m\u001b[39m1\u001b[39m)\n\u001b[1;32m      <a href='vscode-notebook-cell://ssh-remote%2B7b22686f73744e616d65223a2242484c61622d4368616e67626165227d/home/changbae/fmri_project/C-PAC/CPAC/bcb_mdmr/codes/seed_based_analysis/second_level_analysis.ipynb#W1sdnNjb2RlLXJlbW90ZQ%3D%3D?line=8'>9</a>\u001b[0m second_level_model\u001b[39m.\u001b[39mfit(z_maps, design_matrix\u001b[39m=\u001b[39mdesign_matrix)\n\u001b[0;32m---> <a href='vscode-notebook-cell://ssh-remote%2B7b22686f73744e616d65223a2242484c61622d4368616e67626165227d/home/changbae/fmri_project/C-PAC/CPAC/bcb_mdmr/codes/seed_based_analysis/second_level_analysis.ipynb#W1sdnNjb2RlLXJlbW90ZQ%3D%3D?line=10'>11</a>\u001b[0m z_map \u001b[39m=\u001b[39m second_level_model\u001b[39m.\u001b[39mcompute_contrast(args\u001b[39m.\u001b[39mvariable, output_type\u001b[39m=\u001b[39m\u001b[39m'\u001b[39m\u001b[39mz_score\u001b[39m\u001b[39m'\u001b[39m)\n\u001b[1;32m     <a href='vscode-notebook-cell://ssh-remote%2B7b22686f73744e616d65223a2242484c61622d4368616e67626165227d/home/changbae/fmri_project/C-PAC/CPAC/bcb_mdmr/codes/seed_based_analysis/second_level_analysis.ipynb#W1sdnNjb2RlLXJlbW90ZQ%3D%3D?line=12'>13</a>\u001b[0m result_dir \u001b[39m=\u001b[39m \u001b[39mf\u001b[39m\u001b[39m\"\u001b[39m\u001b[39m{\u001b[39;00mseed_anal_dir\u001b[39m}\u001b[39;00m\u001b[39m/\u001b[39m\u001b[39m{\u001b[39;00margs\u001b[39m.\u001b[39msmoothness\u001b[39m}\u001b[39;00m\u001b[39mmm/p_map/\u001b[39m\u001b[39m{\u001b[39;00margs\u001b[39m.\u001b[39mgroup\u001b[39m}\u001b[39;00m\u001b[39m/\u001b[39m\u001b[39m{\u001b[39;00margs\u001b[39m.\u001b[39mvariable\u001b[39m}\u001b[39;00m\u001b[39m/result/\u001b[39m\u001b[39m\"\u001b[39m\n\u001b[1;32m     <a href='vscode-notebook-cell://ssh-remote%2B7b22686f73744e616d65223a2242484c61622d4368616e67626165227d/home/changbae/fmri_project/C-PAC/CPAC/bcb_mdmr/codes/seed_based_analysis/second_level_analysis.ipynb#W1sdnNjb2RlLXJlbW90ZQ%3D%3D?line=13'>14</a>\u001b[0m temp_dir \u001b[39m=\u001b[39m \u001b[39mf\u001b[39m\u001b[39m\"\u001b[39m\u001b[39m{\u001b[39;00mseed_anal_dir\u001b[39m}\u001b[39;00m\u001b[39m/\u001b[39m\u001b[39m{\u001b[39;00margs\u001b[39m.\u001b[39msmoothness\u001b[39m}\u001b[39;00m\u001b[39mmm/p_map/\u001b[39m\u001b[39m{\u001b[39;00margs\u001b[39m.\u001b[39mgroup\u001b[39m}\u001b[39;00m\u001b[39m/\u001b[39m\u001b[39m{\u001b[39;00margs\u001b[39m.\u001b[39mvariable\u001b[39m}\u001b[39;00m\u001b[39m/temp/\u001b[39m\u001b[39m\"\u001b[39m\n",
      "\u001b[0;31mNameError\u001b[0m: name 'args' is not defined"
     ]
    }
   ],
   "source": [
    "design_matrix = regressor_df[['SEX', 'AGE', 'YR_EDU', variable, 'Mean_Framewise_Displacement']]\n",
    "\n",
    "# 인터셉트 열 추가\n",
    "design_matrix.insert(0, 'intercept', 1)\n",
    "\n",
    "z_maps = [f\"{seed_anal_dir}/{smoothness}mm/corr_z-map/seed_{group}_{variable}/sub-{subject_id}_fisher_z_img.nii.gz\" for subject_id in regressor_df['Participant']]\n",
    "\n",
    "second_level_model = SecondLevelModel(n_jobs=-1)\n",
    "second_level_model.fit(z_maps, design_matrix=design_matrix)\n",
    "\n",
    "z_map = second_level_model.compute_contrast(args.variable, output_type='z_score')\n",
    "\n",
    "result_dir = f\"{seed_anal_dir}/{args.smoothness}mm/p_map/{args.group}/{args.variable}/result/\"\n",
    "temp_dir = f\"{seed_anal_dir}/{args.smoothness}mm/p_map/{args.group}/{args.variable}/temp/\"\n",
    "os.makedirs(result_dir, exist_ok=True)\n",
    "\n",
    "p_map_filename = f\"{result_dir}/pvalue_map.nii.gz\"\n",
    "p_map.to_filename(p_map_filename)"
   ]
  },
  {
   "cell_type": "code",
   "execution_count": null,
   "metadata": {},
   "outputs": [],
   "source": []
  }
 ],
 "metadata": {
  "kernelspec": {
   "display_name": "fmrienv",
   "language": "python",
   "name": "python3"
  },
  "language_info": {
   "codemirror_mode": {
    "name": "ipython",
    "version": 3
   },
   "file_extension": ".py",
   "mimetype": "text/x-python",
   "name": "python",
   "nbconvert_exporter": "python",
   "pygments_lexer": "ipython3",
   "version": "3.9.19"
  }
 },
 "nbformat": 4,
 "nbformat_minor": 2
}
