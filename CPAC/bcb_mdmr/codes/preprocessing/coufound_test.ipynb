{
 "cells": [
  {
   "cell_type": "code",
   "execution_count": 21,
   "metadata": {},
   "outputs": [],
   "source": [
    "from nilearn.interfaces.fmriprep import load_confounds_strategy\n",
    "from nilearn.interfaces.fmriprep import load_confounds\n",
    "import numpy as np\n",
    "from nilearn.image import resample_img\n"
   ]
  },
  {
   "cell_type": "code",
   "execution_count": 22,
   "metadata": {},
   "outputs": [
    {
     "name": "stdout",
     "output_type": "stream",
     "text": [
      "The TR is: 2 seconds\n"
     ]
    }
   ],
   "source": [
    "import json\n",
    "fmri_filename = \"/mnt/NAS2-2/data/SAD_gangnam_resting_2/fMRIPrep_total/sub-c0009/ses-01/func/sub-c0009_ses-01_task-rest_space-MNI152NLin2009cAsym_desc-preproc_bold.nii.gz\"\n",
    "# Assuming your fMRI filename is fmri_filename\n",
    "# Construct the path to the JSON sidecar file\n",
    "json_filename = \"/mnt/NAS2-2/data/SAD_gangnam_resting_2/fMRIPrep_total/sub-c0009/ses-01/func/sub-c0009_ses-01_task-rest_space-MNI152NLin2009cAsym_desc-preproc_bold.json\"\n",
    "\n",
    "# Load the JSON file\n",
    "with open(json_filename, 'r') as f:\n",
    "    metadata = json.load(f)\n",
    "#print(metadata)\n",
    "# Extract the TR\n",
    "tr = metadata['RepetitionTime']  # TR is in seconds\n",
    "\n",
    "print(f\"The TR is: {tr} seconds\")"
   ]
  },
  {
   "cell_type": "code",
   "execution_count": 26,
   "metadata": {},
   "outputs": [
    {
     "ename": "ValueError",
     "evalue": "This function can only deal with 3D images",
     "output_type": "error",
     "traceback": [
      "\u001b[0;31m---------------------------------------------------------------------------\u001b[0m",
      "\u001b[0;31mValueError\u001b[0m                                Traceback (most recent call last)",
      "\u001b[1;32m/home/changbae/fmri_project/C-PAC/CPAC/bcb_mdmr/codes/preprocessing/coufound_test.ipynb Cell 3\u001b[0m line \u001b[0;36m1\n\u001b[1;32m     <a href='vscode-notebook-cell://ssh-remote%2B7b22686f73744e616d65223a2242484c61622d4368616e67626165227d/home/changbae/fmri_project/C-PAC/CPAC/bcb_mdmr/codes/preprocessing/coufound_test.ipynb#W1sdnNjb2RlLXJlbW90ZQ%3D%3D?line=13'>14</a>\u001b[0m \u001b[39m# Step 4: Resample the smoothed image to 4x4x4 mm voxel size\u001b[39;00m\n\u001b[1;32m     <a href='vscode-notebook-cell://ssh-remote%2B7b22686f73744e616d65223a2242484c61622d4368616e67626165227d/home/changbae/fmri_project/C-PAC/CPAC/bcb_mdmr/codes/preprocessing/coufound_test.ipynb#W1sdnNjb2RlLXJlbW90ZQ%3D%3D?line=14'>15</a>\u001b[0m \u001b[39mfrom\u001b[39;00m \u001b[39mnibabel\u001b[39;00m\u001b[39m.\u001b[39;00m\u001b[39mprocessing\u001b[39;00m \u001b[39mimport\u001b[39;00m resample_to_output\n\u001b[0;32m---> <a href='vscode-notebook-cell://ssh-remote%2B7b22686f73744e616d65223a2242484c61622d4368616e67626165227d/home/changbae/fmri_project/C-PAC/CPAC/bcb_mdmr/codes/preprocessing/coufound_test.ipynb#W1sdnNjb2RlLXJlbW90ZQ%3D%3D?line=15'>16</a>\u001b[0m fmri_resampled_img \u001b[39m=\u001b[39m resample_to_output(fmri_smoothed_img, voxel_sizes\u001b[39m=\u001b[39;49m(\u001b[39m4\u001b[39;49m, \u001b[39m4\u001b[39;49m, \u001b[39m4\u001b[39;49m))\n\u001b[1;32m     <a href='vscode-notebook-cell://ssh-remote%2B7b22686f73744e616d65223a2242484c61622d4368616e67626165227d/home/changbae/fmri_project/C-PAC/CPAC/bcb_mdmr/codes/preprocessing/coufound_test.ipynb#W1sdnNjb2RlLXJlbW90ZQ%3D%3D?line=18'>19</a>\u001b[0m \u001b[39m# Step 5: Load the confounds using load_confounds\u001b[39;00m\n\u001b[1;32m     <a href='vscode-notebook-cell://ssh-remote%2B7b22686f73744e616d65223a2242484c61622d4368616e67626165227d/home/changbae/fmri_project/C-PAC/CPAC/bcb_mdmr/codes/preprocessing/coufound_test.ipynb#W1sdnNjb2RlLXJlbW90ZQ%3D%3D?line=19'>20</a>\u001b[0m confounds, sample_mask \u001b[39m=\u001b[39m load_confounds_strategy(\n\u001b[1;32m     <a href='vscode-notebook-cell://ssh-remote%2B7b22686f73744e616d65223a2242484c61622d4368616e67626165227d/home/changbae/fmri_project/C-PAC/CPAC/bcb_mdmr/codes/preprocessing/coufound_test.ipynb#W1sdnNjb2RlLXJlbW90ZQ%3D%3D?line=20'>21</a>\u001b[0m     fmri_filename, denoise_strategy\u001b[39m=\u001b[39m\u001b[39m\"\u001b[39m\u001b[39mscrubbing\u001b[39m\u001b[39m\"\u001b[39m, global_signal\u001b[39m=\u001b[39m\u001b[39m\"\u001b[39m\u001b[39mbasic\u001b[39m\u001b[39m\"\u001b[39m, fd_threshold\u001b[39m=\u001b[39m\u001b[39m0.5\u001b[39m, std_dvars_threshold\u001b[39m=\u001b[39m\u001b[39m1.5\u001b[39m\n\u001b[1;32m     <a href='vscode-notebook-cell://ssh-remote%2B7b22686f73744e616d65223a2242484c61622d4368616e67626165227d/home/changbae/fmri_project/C-PAC/CPAC/bcb_mdmr/codes/preprocessing/coufound_test.ipynb#W1sdnNjb2RlLXJlbW90ZQ%3D%3D?line=21'>22</a>\u001b[0m )\n",
      "File \u001b[0;32m~/anaconda3/envs/fmrienv/lib/python3.9/site-packages/nibabel/processing.py:245\u001b[0m, in \u001b[0;36mresample_to_output\u001b[0;34m(in_img, voxel_sizes, order, mode, cval, out_class)\u001b[0m\n\u001b[1;32m    242\u001b[0m     \u001b[39mif\u001b[39;00m voxel_sizes \u001b[39mis\u001b[39;00m \u001b[39mnot\u001b[39;00m \u001b[39mNone\u001b[39;00m \u001b[39mand\u001b[39;00m \u001b[39mlen\u001b[39m(voxel_sizes) \u001b[39m==\u001b[39m n_dim:\n\u001b[1;32m    243\u001b[0m         \u001b[39m# Need to pad out voxel sizes to match new image dimensions\u001b[39;00m\n\u001b[1;32m    244\u001b[0m         voxel_sizes \u001b[39m=\u001b[39m \u001b[39mtuple\u001b[39m(voxel_sizes) \u001b[39m+\u001b[39m (\u001b[39m1\u001b[39m,) \u001b[39m*\u001b[39m (\u001b[39m3\u001b[39m \u001b[39m-\u001b[39m n_dim)\n\u001b[0;32m--> 245\u001b[0m out_vox_map \u001b[39m=\u001b[39m vox2out_vox((in_img\u001b[39m.\u001b[39;49mshape, in_img\u001b[39m.\u001b[39;49maffine), voxel_sizes)\n\u001b[1;32m    246\u001b[0m \u001b[39mreturn\u001b[39;00m resample_from_to(in_img, out_vox_map, order, mode, cval, out_class)\n",
      "File \u001b[0;32m~/anaconda3/envs/fmrienv/lib/python3.9/site-packages/nibabel/spaces.py:75\u001b[0m, in \u001b[0;36mvox2out_vox\u001b[0;34m(mapped_voxels, voxel_sizes)\u001b[0m\n\u001b[1;32m     73\u001b[0m n_axes \u001b[39m=\u001b[39m \u001b[39mlen\u001b[39m(in_shape)\n\u001b[1;32m     74\u001b[0m \u001b[39mif\u001b[39;00m n_axes \u001b[39m>\u001b[39m \u001b[39m3\u001b[39m:\n\u001b[0;32m---> 75\u001b[0m     \u001b[39mraise\u001b[39;00m \u001b[39mValueError\u001b[39;00m(\u001b[39m'\u001b[39m\u001b[39mThis function can only deal with 3D images\u001b[39m\u001b[39m'\u001b[39m)\n\u001b[1;32m     76\u001b[0m \u001b[39mif\u001b[39;00m n_axes \u001b[39m<\u001b[39m \u001b[39m3\u001b[39m:\n\u001b[1;32m     77\u001b[0m     in_shape \u001b[39m+\u001b[39m\u001b[39m=\u001b[39m (\u001b[39m1\u001b[39m,) \u001b[39m*\u001b[39m (\u001b[39m3\u001b[39m \u001b[39m-\u001b[39m n_axes)\n",
      "\u001b[0;31mValueError\u001b[0m: This function can only deal with 3D images"
     ]
    }
   ],
   "source": [
    "# Step 1: Import necessary libraries\n",
    "import nibabel as nib\n",
    "from nilearn import image\n",
    "from nilearn.interfaces.fmriprep import load_confounds\n",
    "from nilearn.maskers import NiftiMasker\n",
    "\n",
    "# Step 2: Load your fMRI data\n",
    "fmri_filename = \"/mnt/NAS2-2/data/SAD_gangnam_resting_2/fMRIPrep_total/sub-c0009/ses-01/func/sub-c0009_ses-01_task-rest_space-MNI152NLin2009cAsym_desc-preproc_bold.nii.gz\"\n",
    "fmri_img = image.load_img(fmri_filename)\n",
    "\n",
    "# Step 3: Apply 8mm smoothing to the original image\n",
    "fmri_smoothed_img = image.smooth_img(fmri_img, fwhm=8)\n",
    "\n",
    "# Step 4: Resample the smoothed image to 4x4x4 mm voxel size\n",
    "fmri_resampled_img = resample_img(fmri_smoothed_img, target_affine=np.diag((4,4,4)))\n",
    "\n",
    "# Step 5: Load the confounds using load_confounds\n",
    "confounds, sample_mask = load_confounds_strategy(\n",
    "    fmri_filename, denoise_strategy=\"scrubbing\", global_signal=\"basic\", fd_threshold=0.5, std_dvars_threshold=1.5\n",
    ")\n",
    "\n",
    "\n",
    "# Step 7: Discard the first four volumes\n",
    "# Adjust the sample_mask to exclude the first four volumes\n",
    "if sample_mask is None:\n",
    "    sample_mask = np.arange(fmri_resampled_img.shape[-1])  # Include all volumes\n",
    "# Exclude the first four volumes\n",
    "sample_mask = sample_mask[sample_mask >= 4]\n",
    "\n",
    "# Step 8: Create a NiftiMasker without additional smoothing\n",
    "masker = NiftiMasker(\n",
    "    smoothing_fwhm=None,  # No additional smoothing since it's already applied\n",
    "    standardize=False,\n",
    "    detrend=False,\n",
    "    high_pass=None,       # No additional high-pass filtering\n",
    "    low_pass=0.1,         # Apply low-pass filter at 0.1 Hz\n",
    "    t_r=tr,               # Use the TR extracted from the metadata\n",
    ")\n",
    "\n",
    "# Step 9: Fit the masker (this computes the mask)\n",
    "masker.fit(fmri_resampled_img)\n",
    "\n",
    "# Step 10: Apply the masker to perform confound regression and filtering\n",
    "fmri_denoised = masker.transform(\n",
    "    fmri_resampled_img,\n",
    "    confounds=confounds,\n",
    "    sample_mask=sample_mask\n",
    ")\n",
    "\n",
    "# Step 11: Reconstruct the 4D denoised image from the 2D data matrix\n",
    "fmri_denoised_img = masker.inverse_transform(fmri_denoised)\n"
   ]
  },
  {
   "cell_type": "code",
   "execution_count": 25,
   "metadata": {},
   "outputs": [],
   "source": [
    "output_filename = '/mnt/NAS2-2/data/SAD_gangnam_resting_2/fMRIPrep_total/sub-c0009/ses-01/func/sub-c0009_ses-01_task-rest_space-MNI152NLin2009cAsym_desc-smoothed8mm_resampled4mm_scrubbing_bold.nii.gz'\n",
    "fmri_denoised_img.to_filename(output_filename)"
   ]
  },
  {
   "cell_type": "code",
   "execution_count": null,
   "metadata": {},
   "outputs": [],
   "source": []
  }
 ],
 "metadata": {
  "kernelspec": {
   "display_name": "fmrienv",
   "language": "python",
   "name": "python3"
  },
  "language_info": {
   "codemirror_mode": {
    "name": "ipython",
    "version": 3
   },
   "file_extension": ".py",
   "mimetype": "text/x-python",
   "name": "python",
   "nbconvert_exporter": "python",
   "pygments_lexer": "ipython3",
   "version": "3.9.20"
  }
 },
 "nbformat": 4,
 "nbformat_minor": 2
}
