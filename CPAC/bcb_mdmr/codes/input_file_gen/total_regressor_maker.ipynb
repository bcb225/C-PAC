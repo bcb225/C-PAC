{
 "cells": [
  {
   "cell_type": "markdown",
   "metadata": {},
   "source": [
    "This notebook makes regressor file for total participants in fMRIPrep directory.\n",
    "It makes total participant code list and pseudo-regressor.\n",
    "After running for one session of MDMR, total distance file is created.\n",
    "From the total distance file, we can extract distance file in a very short time."
   ]
  },
  {
   "cell_type": "code",
   "execution_count": 32,
   "metadata": {},
   "outputs": [],
   "source": [
    "import pandas as pd\n",
    "from pathlib import Path\n",
    "from pathlib import PurePath\n",
    "import numpy as np"
   ]
  },
  {
   "cell_type": "code",
   "execution_count": 33,
   "metadata": {},
   "outputs": [],
   "source": [
    "fmriprep_dir = \"/mnt/NAS2-2/data/SAD_gangnam_resting_2/fMRIPrep_total/\"\n",
    "fmriprep_path = Path(fmriprep_dir)"
   ]
  },
  {
   "cell_type": "code",
   "execution_count": 34,
   "metadata": {},
   "outputs": [],
   "source": [
    "subpath_list = [x for x in fmriprep_path.iterdir() if x.is_dir()]"
   ]
  },
  {
   "cell_type": "code",
   "execution_count": 35,
   "metadata": {},
   "outputs": [],
   "source": [
    "subject_code_list = []\n",
    "for subpath in subpath_list:\n",
    "    subpath_dir = PurePath(subpath)\n",
    "    sub_id = subpath_dir.name\n",
    "    subject_code = sub_id.split('sub-')[-1]  # 'sub-' 이후 부분만 추출\n",
    "    subject_code_list.append(subject_code)"
   ]
  },
  {
   "cell_type": "code",
   "execution_count": 36,
   "metadata": {},
   "outputs": [],
   "source": [
    "code_list = pd.Series(subject_code_list)\n",
    "code_list_file_name = f\"../../input/all_code_list.csv\"\n",
    "code_list.to_csv(code_list_file_name, header=False, index=False)"
   ]
  },
  {
   "cell_type": "code",
   "execution_count": 37,
   "metadata": {},
   "outputs": [],
   "source": [
    "regressor = pd.DataFrame({\n",
    "    'Participant': subject_code_list,\n",
    "    'pseudo_variable': np.random.rand(len(subject_code_list)),\n",
    "    'pseudo_covariates': np.random.rand(len(subject_code_list)),\n",
    "})"
   ]
  },
  {
   "cell_type": "code",
   "execution_count": 38,
   "metadata": {},
   "outputs": [],
   "source": [
    "regressor_file_name = f\"../../input/all_pseudo_variable_regressor.csv\"\n",
    "regressor.to_csv(regressor_file_name, index=False)"
   ]
  },
  {
   "cell_type": "code",
   "execution_count": null,
   "metadata": {},
   "outputs": [],
   "source": []
  },
  {
   "cell_type": "code",
   "execution_count": null,
   "metadata": {},
   "outputs": [],
   "source": []
  },
  {
   "cell_type": "code",
   "execution_count": null,
   "metadata": {},
   "outputs": [],
   "source": []
  },
  {
   "cell_type": "code",
   "execution_count": null,
   "metadata": {},
   "outputs": [],
   "source": []
  }
 ],
 "metadata": {
  "kernelspec": {
   "display_name": "fmrienv",
   "language": "python",
   "name": "python3"
  },
  "language_info": {
   "codemirror_mode": {
    "name": "ipython",
    "version": 3
   },
   "file_extension": ".py",
   "mimetype": "text/x-python",
   "name": "python",
   "nbconvert_exporter": "python",
   "pygments_lexer": "ipython3",
   "version": "3.9.19"
  }
 },
 "nbformat": 4,
 "nbformat_minor": 2
}
