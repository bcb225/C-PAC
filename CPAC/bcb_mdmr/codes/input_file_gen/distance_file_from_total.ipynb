{
 "cells": [
  {
   "cell_type": "code",
   "execution_count": 4,
   "metadata": {},
   "outputs": [],
   "source": [
    "import numpy as np\n",
    "total_distance = np.load(\"/mnt/NAS2-2/data/SAD_gangnam_MDMR/distance/6mm/gangnam_total_distance.npy\")\n",
    "sad_distance = np.load(\"/mnt/NAS2-2/data/SAD_gangnam_MDMR/distance/6mm/gangnam_sad_distance.npy\")"
   ]
  },
  {
   "cell_type": "code",
   "execution_count": 5,
   "metadata": {},
   "outputs": [
    {
     "data": {
      "text/plain": [
       "(20290, 117, 117)"
      ]
     },
     "execution_count": 5,
     "metadata": {},
     "output_type": "execute_result"
    }
   ],
   "source": [
    "total_distance.shape"
   ]
  },
  {
   "cell_type": "code",
   "execution_count": 7,
   "metadata": {},
   "outputs": [
    {
     "data": {
      "text/plain": [
       "(20290, 60, 60)"
      ]
     },
     "execution_count": 7,
     "metadata": {},
     "output_type": "execute_result"
    }
   ],
   "source": [
    "sad_distance.shape"
   ]
  },
  {
   "cell_type": "code",
   "execution_count": 8,
   "metadata": {},
   "outputs": [],
   "source": [
    "import pandas as pd"
   ]
  },
  {
   "cell_type": "code",
   "execution_count": 37,
   "metadata": {},
   "outputs": [],
   "source": [
    "total_code_list = pd.read_csv(\"../../input/gangnam_total_code_list.csv\", header=None)\n",
    "sad_code_list = pd.read_csv(\"../../input/gangnam_sad_code_list.csv\", header=None)\n",
    "\n",
    "## temporary\n",
    "# Remove the first row (index 0) from each DataFrame\n",
    "total_code_list = total_code_list.drop(0).reset_index(drop=True)\n",
    "sad_code_list = sad_code_list.drop(0).reset_index(drop=True)\n"
   ]
  },
  {
   "cell_type": "code",
   "execution_count": 38,
   "metadata": {},
   "outputs": [
    {
     "name": "stdout",
     "output_type": "stream",
     "text": [
      "       0\n",
      "0  s0005\n",
      "1  s0004\n",
      "2  c0009\n",
      "3  s0012\n",
      "4  c0010\n",
      "       0\n",
      "0  s0005\n",
      "1  s0004\n",
      "2  s0012\n",
      "3  s0008\n",
      "4  s0019\n"
     ]
    }
   ],
   "source": [
    "# Check the structure of the loaded DataFrames\n",
    "print(total_code_list.head())  # Check the first few rows of the total_code_list\n",
    "print(sad_code_list.head())    # Check the first few rows of the sad_code_list"
   ]
  },
  {
   "cell_type": "code",
   "execution_count": 83,
   "metadata": {},
   "outputs": [
    {
     "name": "stdout",
     "output_type": "stream",
     "text": [
      "   sad_code_index total_code_index\n",
      "0               0                0\n",
      "1               1                1\n",
      "2               2                3\n",
      "3               3                6\n",
      "4               4                8\n"
     ]
    }
   ],
   "source": [
    "# Assuming the first column contains the codes\n",
    "mapping = sad_code_list[0].apply(lambda x: total_code_list[total_code_list[0] == x].index.tolist())\n",
    "\n",
    "# Display the mapping\n",
    "mapping = mapping.explode().reset_index()\n",
    "mapping.columns = ['sad_code_index', 'total_code_index']\n",
    "# 매핑 과정이 올바르게 수행되었는지 확인\n",
    "print(mapping.head())\n",
    "\n",
    "# 혹시 매핑되지 않은 값이 있는지 확인\n",
    "unmapped_sad_codes = sad_code_list[0][~sad_code_list[0].isin(total_code_list[0])]\n",
    "if not unmapped_sad_codes.empty:\n",
    "    print(f\"These codes from sad_code_list could not be mapped to total_code_list: {unmapped_sad_codes.values}\")"
   ]
  },
  {
   "cell_type": "code",
   "execution_count": 48,
   "metadata": {},
   "outputs": [
    {
     "data": {
      "text/plain": [
       "array([  0,   1,   3,   6,   8,  15,  16,  21,  27,  28,  31,  34,  40,\n",
       "        41,  42,  45,  46,  48,  49,  50,  51,  52,  53,  54,  55,  56,\n",
       "        57,  58,  59,  60,  61,  62,  63,  64,  65,  67,  71,  74,  77,\n",
       "        83,  88,  89,  90,  91,  93,  94,  95,  97,  99, 100, 101, 102,\n",
       "       103, 107, 108, 110, 111, 112, 115, 116])"
      ]
     },
     "execution_count": 48,
     "metadata": {},
     "output_type": "execute_result"
    }
   ],
   "source": [
    "total_indices = mapping[\"total_code_index\"].astype(int).values\n",
    "total_indices"
   ]
  },
  {
   "cell_type": "code",
   "execution_count": 91,
   "metadata": {},
   "outputs": [
    {
     "name": "stdout",
     "output_type": "stream",
     "text": [
      "new_sad_distance shape: (20290, 60, 60)\n",
      "sad_distance shape: (20290, 60, 60)\n",
      "new_sad_distance has the correct shape.\n"
     ]
    }
   ],
   "source": [
    "new_sad_distance = total_distance[:, total_indices][:, :, total_indices].astype(np.float64).copy()\n",
    "sad_distance = sad_distance.astype(np.float64).copy()\n",
    "\n",
    "new_sad_distance = new_sad_distance.astype(np.float64)\n",
    "sad_distance = sad_distance.astype(np.float64)\n",
    "\n",
    "# 추출된 new_sad_distance의 모양이 올바른지 확인\n",
    "print(f\"new_sad_distance shape: {new_sad_distance.shape}\")\n",
    "print(f\"sad_distance shape: {sad_distance.shape}\")\n",
    "\n",
    "# 두 distance 매트릭스가 동일한 형태인지 확인\n",
    "if new_sad_distance.shape == sad_distance.shape:\n",
    "    print(\"new_sad_distance has the correct shape.\")\n",
    "else:\n",
    "    print(\"Shape mismatch between new_sad_distance and sad_distance.\")"
   ]
  },
  {
   "cell_type": "code",
   "execution_count": 94,
   "metadata": {},
   "outputs": [
    {
     "name": "stdout",
     "output_type": "stream",
     "text": [
      "The new sad distance matrix matches the existing sad distance matrix for the first voxel.\n"
     ]
    }
   ],
   "source": [
    "# np.allclose에서 허용하는 상대 오차와 절대 오차를 설정\n",
    "comparison = np.allclose(new_sad_distance, sad_distance, rtol=1e-7, atol=1e-7)\n",
    "\n",
    "# 비교 결과 출력\n",
    "if comparison:\n",
    "    print(\"The new sad distance matrix matches the existing sad distance matrix for the first voxel.\")\n",
    "else:\n",
    "    print(\"The new sad distance matrix does not match the existing sad distance matrix for the first voxel.\")"
   ]
  },
  {
   "cell_type": "code",
   "execution_count": null,
   "metadata": {},
   "outputs": [],
   "source": []
  },
  {
   "cell_type": "code",
   "execution_count": null,
   "metadata": {},
   "outputs": [],
   "source": []
  }
 ],
 "metadata": {
  "kernelspec": {
   "display_name": "fmrienv",
   "language": "python",
   "name": "python3"
  },
  "language_info": {
   "codemirror_mode": {
    "name": "ipython",
    "version": 3
   },
   "file_extension": ".py",
   "mimetype": "text/x-python",
   "name": "python",
   "nbconvert_exporter": "python",
   "pygments_lexer": "ipython3",
   "version": "3.9.19"
  }
 },
 "nbformat": 4,
 "nbformat_minor": 2
}
